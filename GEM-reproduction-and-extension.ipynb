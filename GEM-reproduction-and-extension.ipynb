{
  "nbformat": 4,
  "nbformat_minor": 0,
  "metadata": {
    "colab": {
      "name": "GEM-reproduction-and-extension.ipynb",
      "provenance": [],
      "collapsed_sections": [],
      "toc_visible": true,
      "include_colab_link": true
    },
    "kernelspec": {
      "name": "python3",
      "display_name": "Python 3"
    },
    "accelerator": "GPU"
  },
  "cells": [
    {
      "cell_type": "markdown",
      "metadata": {
        "id": "view-in-github",
        "colab_type": "text"
      },
      "source": [
        "<a href=\"https://colab.research.google.com/github/cicyfan/GradientEpisodicMemory/blob/master/GEM-reproduction-and-extension.ipynb\" target=\"_parent\"><img src=\"https://colab.research.google.com/assets/colab-badge.svg\" alt=\"Open In Colab\"/></a>"
      ]
    },
    {
      "cell_type": "markdown",
      "metadata": {
        "id": "1v91PP9oO1Se",
        "colab_type": "text"
      },
      "source": [
        "# Continual Learning (CL) for Robotic Perception\n",
        "\n",
        "This project is a fork of the [Gradient Episodic Memory for Continual Learning](https://github.com/facebookresearch/GradientEpisodicMemory) Github repo. \\\\\n",
        "\n",
        "Source code for [paper](https://arxiv.org/pdf/1706.08840.pdf)\n",
        "\n",
        "```\n",
        "@inproceedings{GradientEpisodicMemory,\n",
        "    title={Gradient Episodic Memory for Continual Learning},\n",
        "    author={Lopez-Paz, David and Ranzato, Marc'Aurelio},\n",
        "    booktitle={NIPS},\n",
        "    year={2017}\n",
        "}\n",
        "```\n",
        "\n",
        "In this project, we will demonstrate our understanding and solution of the continual learning problem. First, we will provide our implementation of the Gradient Episodic Memory model as developed in the paper. The GEM model's architeture alleviates forgetting, and allows for beneficial transfer of knowledge to previous tasks. Second, we will take the optimal parameters as provided in the paper as a baseline, and contrast that to the performance of the model under different parameters through visualization. We will be focusing specifically on the performance on the rotated MNIST dataset. \n",
        "\n",
        "During our iterations of testing, we found that the GEM model achieved the best performance **(acc:89.3% bwt: 5.4% fwt: 65.2%)** when n_memories = 512 and memory_strength = 1. This was better than the baseline performance provided in the paper where n_memories = 256 and memory_strength = 0.5 (acc:84.9%, bwt: 0.3%, fwt: 66.1%).\n",
        "\n"
      ]
    },
    {
      "cell_type": "markdown",
      "metadata": {
        "id": "yeKSrawCM_bo",
        "colab_type": "text"
      },
      "source": [
        "# Environment Set up\n",
        "If torch.cuda.is_available() returns False, go to Runtime -> Change Runtime Type -> Hardware Accelerator -> Select 'GPU' "
      ]
    },
    {
      "cell_type": "code",
      "metadata": {
        "id": "NKUOtmvpJxpE",
        "colab_type": "code",
        "outputId": "2db74019-7aa4-455a-a343-358aeeab5fef",
        "colab": {
          "base_uri": "https://localhost:8080/",
          "height": 34
        }
      },
      "source": [
        "import torch\n",
        "import torch.nn as nn\n",
        "import torchvision.datasets as datasets\n",
        "import torchvision.transforms as transforms\n",
        "import torch.optim as optim\n",
        "import torch.nn.functional as F\n",
        "import numpy as np\n",
        "import matplotlib.pyplot as plt\n",
        "%matplotlib inline\n",
        "from google.colab import drive\n",
        "import subprocess\n",
        "import pickle\n",
        "import altair as alt\n",
        "import os\n",
        "import pandas as pd\n",
        "from glob import glob\n",
        "import datetime\n",
        "import random\n",
        "import uuid\n",
        "import time\n",
        "import math\n",
        "\n",
        "torch.cuda.is_available()"
      ],
      "execution_count": 0,
      "outputs": [
        {
          "output_type": "execute_result",
          "data": {
            "text/plain": [
              "True"
            ]
          },
          "metadata": {
            "tags": []
          },
          "execution_count": 3
        }
      ]
    },
    {
      "cell_type": "markdown",
      "metadata": {
        "id": "9MtSIvTJo-Dp",
        "colab_type": "text"
      },
      "source": [
        "Depending on the runtime, some packages may need to be installed"
      ]
    },
    {
      "cell_type": "code",
      "metadata": {
        "id": "J697MFOLnghH",
        "colab_type": "code",
        "colab": {}
      },
      "source": [
        "!pip install quadprog"
      ],
      "execution_count": 0,
      "outputs": []
    },
    {
      "cell_type": "code",
      "metadata": {
        "id": "5IDF54hZnLkj",
        "colab_type": "code",
        "colab": {}
      },
      "source": [
        "import quadprog"
      ],
      "execution_count": 0,
      "outputs": []
    },
    {
      "cell_type": "markdown",
      "metadata": {
        "id": "QEhT0IPqNRdn",
        "colab_type": "text"
      },
      "source": [
        "Mount drive"
      ]
    },
    {
      "cell_type": "code",
      "metadata": {
        "id": "7DOE5t97KD1P",
        "colab_type": "code",
        "outputId": "6f7d639a-fc83-4463-fc4c-505e15f3f16d",
        "colab": {
          "base_uri": "https://localhost:8080/",
          "height": 125
        }
      },
      "source": [
        "drive.mount(\"/content/drive\", force_remount=True)"
      ],
      "execution_count": 0,
      "outputs": [
        {
          "output_type": "stream",
          "text": [
            "Go to this URL in a browser: https://accounts.google.com/o/oauth2/auth?client_id=947318989803-6bn6qk8qdgf4n4g3pfee6491hc0brc4i.apps.googleusercontent.com&redirect_uri=urn%3aietf%3awg%3aoauth%3a2.0%3aoob&response_type=code&scope=email%20https%3a%2f%2fwww.googleapis.com%2fauth%2fdocs.test%20https%3a%2f%2fwww.googleapis.com%2fauth%2fdrive%20https%3a%2f%2fwww.googleapis.com%2fauth%2fdrive.photos.readonly%20https%3a%2f%2fwww.googleapis.com%2fauth%2fpeopleapi.readonly\n",
            "\n",
            "Enter your authorization code:\n",
            "··········\n",
            "Mounted at /content/drive\n"
          ],
          "name": "stdout"
        }
      ]
    },
    {
      "cell_type": "markdown",
      "metadata": {
        "id": "9RN2xGAdNIHf",
        "colab_type": "text"
      },
      "source": [
        "# Clone Repo and Retrieve Data"
      ]
    },
    {
      "cell_type": "code",
      "metadata": {
        "id": "jScF_YX6K7tR",
        "colab_type": "code",
        "outputId": "5cca633e-3546-462b-e7ea-ffa9ccb69280",
        "colab": {
          "base_uri": "https://localhost:8080/",
          "height": 34
        }
      },
      "source": [
        "!git clone https://github.com/facebookresearch/GradientEpisodicMemory.git '/content/drive/My Drive/MNIST'"
      ],
      "execution_count": 0,
      "outputs": [
        {
          "output_type": "stream",
          "text": [
            "fatal: destination path '/content/drive/My Drive/MNIST' already exists and is not an empty directory.\n"
          ],
          "name": "stdout"
        }
      ]
    },
    {
      "cell_type": "code",
      "metadata": {
        "id": "bieYL7kpLEC6",
        "colab_type": "code",
        "outputId": "d08e5499-bb91-45ef-a052-09ea78329486",
        "colab": {
          "base_uri": "https://localhost:8080/",
          "height": 34
        }
      },
      "source": [
        "%cd '/content/drive/My Drive/MNIST'"
      ],
      "execution_count": 0,
      "outputs": [
        {
          "output_type": "stream",
          "text": [
            "/content/drive/My Drive/MNIST\n"
          ],
          "name": "stdout"
        }
      ]
    },
    {
      "cell_type": "code",
      "metadata": {
        "id": "gL1vQy0-LTMb",
        "colab_type": "code",
        "outputId": "2aa1e025-aaa4-4234-c370-a4b48e66d320",
        "colab": {
          "base_uri": "https://localhost:8080/",
          "height": 68
        }
      },
      "source": [
        "!ls"
      ],
      "execution_count": 0,
      "outputs": [
        {
          "output_type": "stream",
          "text": [
            "CODE_OF_CONDUCT.md  LICENSE  model\t       results\n",
            "CONTRIBUTING.md     main.py  README.md\t       run_experiments.sh\n",
            "data\t\t    metrics  requirements.txt\n"
          ],
          "name": "stdout"
        }
      ]
    },
    {
      "cell_type": "markdown",
      "metadata": {
        "id": "IWJirqNMlCk5",
        "colab_type": "text"
      },
      "source": [
        "### Download data\n",
        "\n",
        "Download and save MNIST data as **mnist_train.pt and mnist_test.pt** in /MNIST/data/raw. \\\\\n",
        "We are omitting the CIFAR data as it's out of scope for this project. "
      ]
    },
    {
      "cell_type": "code",
      "metadata": {
        "id": "aOCBi9L7MBZu",
        "colab_type": "code",
        "outputId": "69bb4a8e-f5f5-4fa2-e6b2-d96b168dfab0",
        "colab": {
          "base_uri": "https://localhost:8080/",
          "height": 34
        }
      },
      "source": [
        "%cd '/content/drive/My Drive/MNIST/data/raw/'"
      ],
      "execution_count": 0,
      "outputs": [
        {
          "output_type": "stream",
          "text": [
            "/content/drive/My Drive/MNIST/data/raw\n"
          ],
          "name": "stdout"
        }
      ]
    },
    {
      "cell_type": "code",
      "metadata": {
        "id": "NO72D-08LW6D",
        "colab_type": "code",
        "colab": {}
      },
      "source": [
        "mnist_path = \"mnist.npz\"\n",
        "\n",
        "if not os.path.exists(mnist_path):\n",
        "    subprocess.call(\"wget https://s3.amazonaws.com/img-datasets/mnist.npz\", shell=True)\n",
        "\n",
        "f = np.load('mnist.npz')\n",
        "x_tr = torch.from_numpy(f['x_train'])\n",
        "y_tr = torch.from_numpy(f['y_train']).long()\n",
        "x_te = torch.from_numpy(f['x_test'])\n",
        "y_te = torch.from_numpy(f['y_test']).long()\n",
        "f.close()\n",
        "\n",
        "torch.save((x_tr, y_tr), 'mnist_train.pt')\n",
        "torch.save((x_te, y_te), 'mnist_test.pt')"
      ],
      "execution_count": 0,
      "outputs": []
    },
    {
      "cell_type": "code",
      "metadata": {
        "id": "t5vqfJ3WMbYo",
        "colab_type": "code",
        "outputId": "67cb93c8-46f9-468e-d8ab-5386cd9fa299",
        "colab": {
          "base_uri": "https://localhost:8080/",
          "height": 34
        }
      },
      "source": [
        "!ls"
      ],
      "execution_count": 0,
      "outputs": [
        {
          "output_type": "stream",
          "text": [
            "mnist.npz  mnist_test.pt  mnist_train.pt  raw.py\n"
          ],
          "name": "stdout"
        }
      ]
    },
    {
      "cell_type": "markdown",
      "metadata": {
        "id": "xuDw2ibFUxTB",
        "colab_type": "text"
      },
      "source": [
        "## Generate Permutated and Rotated Datasets \n"
      ]
    },
    {
      "cell_type": "code",
      "metadata": {
        "id": "cy3m6eW4QNiC",
        "colab_type": "code",
        "outputId": "aa40e350-7cfb-41af-d29d-fcb745cf35e0",
        "colab": {
          "base_uri": "https://localhost:8080/",
          "height": 34
        }
      },
      "source": [
        "%cd /content/drive/My Drive/MNIST/data"
      ],
      "execution_count": 0,
      "outputs": [
        {
          "output_type": "stream",
          "text": [
            "/content/drive/My Drive/MNIST/data\n"
          ],
          "name": "stdout"
        }
      ]
    },
    {
      "cell_type": "markdown",
      "metadata": {
        "id": "aM7ebdDRjhZF",
        "colab_type": "text"
      },
      "source": [
        "Generates **mnist_permutations.pt and mnist_rotations.pt** in /MNIST/data. \\\\\n",
        "Each data set has 20 tasks, and each task has 1000 examples from 10 different classes.\n"
      ]
    },
    {
      "cell_type": "code",
      "metadata": {
        "id": "anvkr_g5Tj8b",
        "colab_type": "code",
        "colab": {}
      },
      "source": [
        "!python mnist_permutations.py \\\n",
        "\t--o mnist_permutations.pt \\\n",
        "\t--seed 0 \\\n",
        "\t--n_tasks 20"
      ],
      "execution_count": 0,
      "outputs": []
    },
    {
      "cell_type": "markdown",
      "metadata": {
        "id": "vppGwCS39XN6",
        "colab_type": "text"
      },
      "source": [
        "Rotation data is generated with a minimum rotation angle of 0 and a maximum rotation angle of 180. The data will be randomly rotated on a angle between the min and max."
      ]
    },
    {
      "cell_type": "code",
      "metadata": {
        "id": "19FUjAzKXTDj",
        "colab_type": "code",
        "colab": {}
      },
      "source": [
        "!python mnist_rotations.py \\\n",
        "\t--o mnist_rotations.pt\\\n",
        "\t--seed 0 \\\n",
        "\t--min_rot 0 \\\n",
        "\t--max_rot 180 \\\n",
        "\t--n_tasks 20"
      ],
      "execution_count": 0,
      "outputs": []
    },
    {
      "cell_type": "markdown",
      "metadata": {
        "id": "ATdUe1EeukCB",
        "colab_type": "text"
      },
      "source": [
        "# Our Implementation of GEM\n",
        "\n"
      ]
    },
    {
      "cell_type": "markdown",
      "metadata": {
        "id": "jWqqKV0JL-4M",
        "colab_type": "text"
      },
      "source": [
        "Load dataset"
      ]
    },
    {
      "cell_type": "code",
      "metadata": {
        "id": "VRwPlr5w0LMG",
        "colab_type": "code",
        "colab": {}
      },
      "source": [
        "def load_datasets():\n",
        "    d_tr, d_te = torch.load('/content/drive/My Drive/MNIST/data/mnist_rotations.pt')\n",
        "    n_inputs = d_tr[0][1].size(1)\n",
        "    n_outputs = 0\n",
        "    for i in range(len(d_tr)):\n",
        "        n_outputs = max(n_outputs, d_tr[i][2].max().item())\n",
        "        n_outputs = max(n_outputs, d_te[i][2].max().item())\n",
        "    return d_tr, d_te, n_inputs, n_outputs + 1, len(d_tr)"
      ],
      "execution_count": 0,
      "outputs": []
    },
    {
      "cell_type": "markdown",
      "metadata": {
        "id": "VcAzhHN92xMK",
        "colab_type": "text"
      },
      "source": [
        "One defining feature of the Gradient Episodic Memory framework is the use of a continuum of training tasks. In this model, each pair of features and labels is also associated with some task. This is common in much of the continual learning literature, but one thing that distinguishes the GEM method is the possibility for there to be a hierarchy of tasks, with contextual information enabling success at one task to lead to improvement in other, related, tasks. As such, GEM uses a Continuum class, to express the relationship between the tasks and the data that represent them."
      ]
    },
    {
      "cell_type": "code",
      "metadata": {
        "id": "Y66cnwmd1ww_",
        "colab_type": "code",
        "colab": {}
      },
      "source": [
        "class Continuum:\n",
        "    def __init__(self, data, batch_size, shuffle_tasks, samples_per_task, \n",
        "                 n_epochs):\n",
        "        self.data = data\n",
        "        self.batch_size = batch_size\n",
        "        n_tasks = len(data)\n",
        "        task_permutation = range(n_tasks)\n",
        "\n",
        "        if shuffle_tasks == 'yes':\n",
        "            task_permutation = torch.randperm(n_tasks).tolist()\n",
        "\n",
        "        sample_permutations = []\n",
        "\n",
        "        for t in range(n_tasks):\n",
        "            N = data[t][1].size(0)\n",
        "            if samples_per_task <= 0:\n",
        "                n = N\n",
        "            else:\n",
        "                n = min(samples_per_task, N)\n",
        "\n",
        "            p = torch.randperm(N)[0:n]\n",
        "            sample_permutations.append(p)\n",
        "\n",
        "        self.permutation = []\n",
        "\n",
        "        for t in range(n_tasks):\n",
        "            task_t = task_permutation[t]\n",
        "            for _ in range(n_epochs):\n",
        "                task_p = [[task_t, i] for i in sample_permutations[task_t]]\n",
        "                random.shuffle(task_p)\n",
        "                self.permutation += task_p\n",
        "\n",
        "        self.length = len(self.permutation)\n",
        "        self.current = 0\n",
        "\n",
        "    def __iter__(self):\n",
        "        return self\n",
        "\n",
        "    def next(self):\n",
        "        return self.__next__()\n",
        "\n",
        "    def __next__(self):\n",
        "        if self.current >= self.length:\n",
        "            raise StopIteration\n",
        "        else:\n",
        "            ti = self.permutation[self.current][0]\n",
        "            j = []\n",
        "            i = 0\n",
        "            while (((self.current + i) < self.length) and\n",
        "                   (self.permutation[self.current + i][0] == ti) and\n",
        "                   (i < self.batch_size)):\n",
        "                j.append(self.permutation[self.current + i][1])\n",
        "                i += 1\n",
        "            self.current += i\n",
        "            j = torch.LongTensor(j)\n",
        "            return self.data[ti][1][j], ti, self.data[ti][2][j]"
      ],
      "execution_count": 0,
      "outputs": []
    },
    {
      "cell_type": "markdown",
      "metadata": {
        "id": "rKkSixw2EDch",
        "colab_type": "text"
      },
      "source": [
        "A key measure of any model for continual learning is its ability to perform well at tasks that it has not seen recently, or even (in theory) do well on tasks that it has never been trained on, if it has been trained on other, similar tasks."
      ]
    },
    {
      "cell_type": "code",
      "metadata": {
        "id": "LOoZPxsY1veY",
        "colab_type": "code",
        "colab": {}
      },
      "source": [
        "def eval_tasks(model, tasks, cuda):\n",
        "    model.eval()\n",
        "    result = []\n",
        "    for i, task in enumerate(tasks):\n",
        "        t = i\n",
        "        x = task[1]\n",
        "        y = task[2]\n",
        "        rt = 0\n",
        "        \n",
        "        eval_bs = x.size(0)\n",
        "\n",
        "        for b_from in range(0, x.size(0), eval_bs):\n",
        "            b_to = min(b_from + eval_bs, x.size(0) - 1)\n",
        "            if b_from == b_to:\n",
        "                xb = x[b_from].view(1, -1)\n",
        "                yb = torch.LongTensor([y[b_to]]).view(1, -1)\n",
        "            else:\n",
        "                xb = x[b_from:b_to]\n",
        "                yb = y[b_from:b_to]\n",
        "            _, pb = torch.max(model(xb, t).data.cpu(), 1, keepdim=False)\n",
        "            rt += (pb == yb).float().sum()\n",
        "\n",
        "        result.append(rt / x.size(0))\n",
        "\n",
        "    return result\n",
        "\n",
        "def life_experience(model, continuum, x_te, log_every, cuda):\n",
        "    result_a = []\n",
        "    result_t = []\n",
        "\n",
        "    current_task = 0\n",
        "    time_start = time.time()\n",
        "\n",
        "    for (i, (x, t, y)) in enumerate(continuum):\n",
        "        if(((i % log_every) == 0) or (t != current_task)):\n",
        "            result_a.append(eval_tasks(model, x_te, cuda))\n",
        "            result_t.append(current_task)\n",
        "            current_task = t\n",
        "\n",
        "        v_x = x.view(x.size(0), -1)\n",
        "        v_y = y.long()\n",
        "\n",
        "        model.train()\n",
        "        model.observe(v_x, t, v_y)\n",
        "\n",
        "    result_a.append(eval_tasks(model, x_te, cuda))\n",
        "    result_t.append(current_task)\n",
        "\n",
        "    time_end = time.time()\n",
        "    time_spent = time_end - time_start\n",
        "\n",
        "    return torch.Tensor(result_t), torch.Tensor(result_a), time_spent"
      ],
      "execution_count": 0,
      "outputs": []
    },
    {
      "cell_type": "markdown",
      "metadata": {
        "id": "QidBqgNk4G8O",
        "colab_type": "text"
      },
      "source": [
        "The rotated MNIST dataset is able to be handled by a rather modestly-sized neural network, with only two fully-connected hidden layers of 100 neurons each. We implement these as a multilayer perceptron, within PyTorch's existing neural network framework."
      ]
    },
    {
      "cell_type": "code",
      "metadata": {
        "id": "IOyFCZJj1n_L",
        "colab_type": "code",
        "colab": {}
      },
      "source": [
        "def Xavier(m):\n",
        "    if m.__class__.__name__ == 'Linear':\n",
        "        fan_in, fan_out = m.weight.data.size(1), m.weight.data.size(0)\n",
        "        std = 1.0 * math.sqrt(2.0 / (fan_in + fan_out))\n",
        "        a = math.sqrt(3.0) * std\n",
        "        m.weight.data.uniform_(-a, a)\n",
        "        m.bias.data.fill_(0.0)\n",
        "\n",
        "class MLP(nn.Module):\n",
        "    def __init__(self, sizes):\n",
        "        super(MLP, self).__init__()\n",
        "        layers = []\n",
        "\n",
        "        for i in range(0, len(sizes) - 1):\n",
        "            layers.append(nn.Linear(sizes[i], sizes[i + 1]))\n",
        "            if i < (len(sizes) - 2):\n",
        "                layers.append(nn.ReLU())\n",
        "\n",
        "        self.net = nn.Sequential(*layers)\n",
        "        self.net.apply(Xavier)\n",
        "\n",
        "    def forward(self, x):\n",
        "        return self.net(x)"
      ],
      "execution_count": 0,
      "outputs": []
    },
    {
      "cell_type": "markdown",
      "metadata": {
        "id": "xekkFkfoCJ5d",
        "colab_type": "text"
      },
      "source": [
        "Previously-seen tasks have their gradients stored for future reference."
      ]
    },
    {
      "cell_type": "code",
      "metadata": {
        "id": "1STSikVBB6B8",
        "colab_type": "code",
        "colab": {}
      },
      "source": [
        "def store_grad(pp, grads, grad_dims, tid):\n",
        "    grads[:, tid].fill_(0.0)\n",
        "    cnt = 0\n",
        "    for param in pp():\n",
        "        if param.grad is not None:\n",
        "            beg = 0 if cnt == 0 else sum(grad_dims[:cnt])\n",
        "            en = sum(grad_dims[:cnt + 1])\n",
        "            grads[beg: en, tid].copy_(param.grad.data.view(-1))\n",
        "        cnt += 1"
      ],
      "execution_count": 0,
      "outputs": []
    },
    {
      "cell_type": "markdown",
      "metadata": {
        "id": "OcweM7wlEVVv",
        "colab_type": "text"
      },
      "source": [
        "If gradient vectors violate bounds, they are overridden to preserve the learning process."
      ]
    },
    {
      "cell_type": "code",
      "metadata": {
        "id": "fuf1ZGKuB660",
        "colab_type": "code",
        "colab": {}
      },
      "source": [
        "def overwrite_grad(pp, newgrad, grad_dims):\n",
        "    cnt = 0\n",
        "    for param in pp():\n",
        "        if param.grad is not None:\n",
        "            beg = 0 if cnt == 0 else sum(grad_dims[:cnt])\n",
        "            en = sum(grad_dims[:cnt + 1])\n",
        "            this_grad = newgrad[beg: en].contiguous().view(\n",
        "                param.grad.data.size())\n",
        "            param.grad.data.copy_(this_grad)\n",
        "        cnt += 1"
      ],
      "execution_count": 0,
      "outputs": []
    },
    {
      "cell_type": "markdown",
      "metadata": {
        "id": "AWh9XeXKEpLc",
        "colab_type": "text"
      },
      "source": [
        "At the heart of the math behind the Gradient Episodic Memory process is a Quadratic Programming optimization problem. This is initially formulated as a primal problem, but much like with Support Vector Machines, this can be reframed as a dual problem and solved more easily that way."
      ]
    },
    {
      "cell_type": "code",
      "metadata": {
        "id": "_M2VxWQN1h2Y",
        "colab_type": "code",
        "colab": {}
      },
      "source": [
        "def project2cone2(gradient, memories, margin=0.5, eps=1e-3):\n",
        "    memories_np = memories.cpu().t().double().numpy()\n",
        "    gradient_np = gradient.cpu().contiguous().view(-1).double().numpy()\n",
        "    t = memories_np.shape[0]\n",
        "    P = np.dot(memories_np, memories_np.transpose())\n",
        "    P = 0.5 * (P + P.transpose()) + np.eye(t) * eps\n",
        "    q = np.dot(memories_np, gradient_np) * -1\n",
        "    G = np.eye(t)\n",
        "    h = np.zeros(t) + margin\n",
        "    v = quadprog.solve_qp(P, q, G, h)[0]\n",
        "    x = np.dot(v, memories_np) + gradient_np\n",
        "    gradient.copy_(torch.Tensor(x).view(-1, 1))"
      ],
      "execution_count": 0,
      "outputs": []
    },
    {
      "cell_type": "markdown",
      "metadata": {
        "id": "phDWRpWn6kTr",
        "colab_type": "text"
      },
      "source": [
        "Here we build the neural network using the tools included with PyTorch. We use standard choices for loss function (Cross Entropy) and learning method (Stochastic Gradient Descent). Much more interestingly, we also implement Episodic Memory here. Episodic Memory is probably the most important aspect of Gradient Episodic Memory, hence the name. For each task, the network stores a subset of the examples that it has seen so far. These \"memories\" enable the learner to continue to train on tasks that it has previously seen, and therefore prevent Catastrophic Forgetting."
      ]
    },
    {
      "cell_type": "code",
      "metadata": {
        "id": "U9auiRdu1YiS",
        "colab_type": "code",
        "colab": {}
      },
      "source": [
        "class Net(nn.Module):\n",
        "    def __init__(self, n_inputs, n_outputs, n_tasks, n_layers, n_hiddens,\n",
        "                 memory_strength, data_file, lr, n_memories, cuda):\n",
        "        super(Net, self).__init__()\n",
        "        self.margin = memory_strength\n",
        "        self.net = MLP([n_inputs] + [n_hiddens] * n_layers + [n_outputs])\n",
        "\n",
        "        self.ce = nn.CrossEntropyLoss()\n",
        "        self.n_outputs = n_outputs\n",
        "\n",
        "        self.opt = optim.SGD(self.parameters(), lr)\n",
        "\n",
        "        self.n_memories = n_memories\n",
        "\n",
        "        self.memory_data = torch.FloatTensor(\n",
        "            n_tasks, self.n_memories, n_inputs)\n",
        "        self.memory_labs = torch.LongTensor(n_tasks, self.n_memories)\n",
        "\n",
        "        self.grad_dims = []\n",
        "        for param in self.parameters():\n",
        "            self.grad_dims.append(param.data.numel())\n",
        "        self.grads = torch.Tensor(sum(self.grad_dims), n_tasks)\n",
        "\n",
        "        self.observed_tasks = []\n",
        "        self.old_task = -1\n",
        "        self.mem_cnt = 0\n",
        "        self.nc_per_task = n_outputs\n",
        "\n",
        "    def forward(self, x, t):\n",
        "        output = self.net(x)\n",
        "        return output\n",
        "\n",
        "    def observe(self, x, t, y):\n",
        "        if t != self.old_task:\n",
        "            self.observed_tasks.append(t)\n",
        "            self.old_task = t\n",
        "\n",
        "        bsz = y.data.size(0)\n",
        "        endcnt = min(self.mem_cnt + bsz, self.n_memories)\n",
        "        effbsz = endcnt - self.mem_cnt\n",
        "        self.memory_data[t, self.mem_cnt: endcnt].copy_(\n",
        "            x.data[: effbsz])\n",
        "        if bsz == 1:\n",
        "            self.memory_labs[t, self.mem_cnt] = y.data[0]\n",
        "        else:\n",
        "            self.memory_labs[t, self.mem_cnt: endcnt].copy_(\n",
        "                y.data[: effbsz])\n",
        "        self.mem_cnt += effbsz\n",
        "        if self.mem_cnt == self.n_memories:\n",
        "            self.mem_cnt = 0\n",
        "\n",
        "        if len(self.observed_tasks) > 1:\n",
        "            for tt in range(len(self.observed_tasks) - 1):\n",
        "                self.zero_grad()\n",
        "                past_task = self.observed_tasks[tt]\n",
        "\n",
        "                offset1, offset2 = 0, self.nc_per_task\n",
        "                ptloss = self.ce(\n",
        "                    self.forward(\n",
        "                        self.memory_data[past_task],\n",
        "                        past_task)[:, offset1: offset2],\n",
        "                    self.memory_labs[past_task] - offset1)\n",
        "                ptloss.backward()\n",
        "                store_grad(self.parameters, self.grads, self.grad_dims,\n",
        "                           past_task)\n",
        "\n",
        "        self.zero_grad()\n",
        "\n",
        "        offset1, offset2 = 0, self.nc_per_task\n",
        "        loss = self.ce(self.forward(x, t)[:, offset1: offset2], y - offset1)\n",
        "        loss.backward()\n",
        "\n",
        "        self.opt.step()"
      ],
      "execution_count": 0,
      "outputs": []
    },
    {
      "cell_type": "code",
      "metadata": {
        "id": "r5k1Cww01Vax",
        "colab_type": "code",
        "colab": {}
      },
      "source": [
        "def run_model(model=\"gem\", n_hiddens=100, n_layers=2, n_memories=256, \n",
        "              memory_strength=0, finetune=False, n_epochs=1, batch_size=10, \n",
        "              lr=0.001, cuda=False, seed=0, log_every=100, save_path=\"results/\", \n",
        "              data_path=\"data/\", data_file=\"mnist_permutations.pt\", \n",
        "              samples_per_task=-1, shuffle_tasks=\"no\"):\n",
        "\n",
        "  # If running multiple times, will need a unique ID to keep track\n",
        "  uid = uuid.uuid4().hex\n",
        "\n",
        "  torch.backends.cudnn.enabled = False\n",
        "  torch.manual_seed(seed)\n",
        "  np.random.seed(seed)\n",
        "  random.seed(seed)\n",
        "\n",
        "  x_tr, x_te, n_inputs, n_outputs, n_tasks = load_datasets()\n",
        "\n",
        "  continuum = Continuum(x_tr, batch_size, shuffle_tasks, samples_per_task, n_epochs)\n",
        "  \n",
        "  model = Net(n_inputs, n_outputs, n_tasks, n_layers, n_hiddens, \n",
        "              memory_strength, data_file, lr, n_memories, cuda)\n",
        "\n",
        "  result_t, result_a, spent_time = life_experience(model, continuum, x_te, log_every, cuda)\n",
        "\n",
        "  if not os.path.exists(save_path):\n",
        "        os.makedirs(save_path)\n",
        "\n",
        "  fname = 'gem_' + data_file + '_'\n",
        "  fname += datetime.datetime.now().strftime(\"%Y_%m_%d_%H_%M_%S\")\n",
        "  fname += '_' + uid\n",
        "  fname = os.path.join(save_path, fname)\n",
        "  print(fname + ': ' + ' # ' + str(spent_time))\n",
        "  torch.save((result_t, result_a, model.state_dict()), fname + '.pt')"
      ],
      "execution_count": 0,
      "outputs": []
    },
    {
      "cell_type": "markdown",
      "metadata": {
        "id": "gK2zg1orFJJf",
        "colab_type": "text"
      },
      "source": [
        "Here we actually run the model, using the same parameters as were used in the main experiment. Two fully-connected neural networks with two hidden layers of 100 ReLU units were used. "
      ]
    },
    {
      "cell_type": "code",
      "metadata": {
        "id": "utf_0Gdw1QDM",
        "colab_type": "code",
        "outputId": "2d36f203-25cd-490e-b820-cbdc650d6cb0",
        "colab": {
          "base_uri": "https://localhost:8080/",
          "height": 52
        }
      },
      "source": [
        "%cd /content/drive/My Drive/MNIST\n",
        "\n",
        "run_model(model=\"gem\", n_hiddens=100, n_layers=2, lr=0.1, n_memories=256, \n",
        "          memory_strength=0.5, data_path=\"data/\", save_path=\"results/\", \n",
        "          batch_size=10, log_every=100, samples_per_task=1000, \n",
        "          data_file=\"mnist_rotations.pt\", cuda=\"no\", seed=0)"
      ],
      "execution_count": 0,
      "outputs": [
        {
          "output_type": "stream",
          "text": [
            "/content/drive/My Drive/MNIST\n",
            "results/gem_mnist_rotations.pt_2020_04_06_01_14_46_cd5c8499992542519487629ed086d5d3:  # 65.44673228263855\n"
          ],
          "name": "stdout"
        }
      ]
    },
    {
      "cell_type": "markdown",
      "metadata": {
        "id": "E-RulAE9rM5V",
        "colab_type": "text"
      },
      "source": [
        "# Results and Visualization"
      ]
    },
    {
      "cell_type": "markdown",
      "metadata": {
        "id": "--YZiV8D8iUg",
        "colab_type": "text"
      },
      "source": [
        "## Replicating Paper Results\n",
        "Result files are available for download [here](https://drive.google.com/drive/folders/1NGkZ-DYKcbqpt8XjqVBsfCviPVcOEgN0?usp=sharing)\n",
        "\n"
      ]
    },
    {
      "cell_type": "code",
      "metadata": {
        "id": "zwwvCpeu4_9Z",
        "colab_type": "code",
        "outputId": "02e4f0d4-a713-4d2e-d28a-b857655dd44e",
        "colab": {
          "base_uri": "https://localhost:8080/",
          "height": 34
        }
      },
      "source": [
        "%cd /content/drive/My Drive/MNIST/results"
      ],
      "execution_count": 0,
      "outputs": [
        {
          "output_type": "stream",
          "text": [
            "/content/drive/My Drive/MNIST1/results\n"
          ],
          "name": "stdout"
        }
      ]
    },
    {
      "cell_type": "code",
      "metadata": {
        "id": "Nx7CLB4Va_Oe",
        "colab_type": "code",
        "outputId": "5cb9ddd2-2cbc-4189-e8af-573fdc51b0ed",
        "colab": {
          "base_uri": "https://localhost:8080/",
          "height": 456
        }
      },
      "source": [
        "# Copyright 2017-present, Facebook, Inc.\n",
        "# All rights reserved.\n",
        "#\n",
        "# This source code is licensed under the license found in the\n",
        "# LICENSE file in the root directory of this source tree.\n",
        "\n",
        "models = ['single', 'independent', 'multimodal', 'icarl', 'ewc', 'gem']\n",
        "datasets = ['mnist_permutations', 'mnist_rotations']\n",
        "\n",
        "names_datasets = {'mnist_permutations': 'MNIST permutations',\n",
        "                  'mnist_rotations': 'MNIST rotations'}\n",
        "\n",
        "names_models = {'single': 'single',\n",
        "                'independent': 'independent',\n",
        "                'multimodal': 'multimodal',\n",
        "                'icarl': 'iCARL',\n",
        "                'ewc': 'EWC',\n",
        "                'gem': 'GEM'}\n",
        "\n",
        "colors = {'single': 'C0',\n",
        "          'independent': 'C1',\n",
        "          'multimodal': 'C2',\n",
        "          'icarl': 'C2',\n",
        "          'ewc': 'C3',\n",
        "          'gem': 'C4'}\n",
        "\n",
        "barplot = {}\n",
        "\n",
        "for dataset in datasets:\n",
        "    barplot[dataset] = {}\n",
        "    for model in models:\n",
        "        barplot[dataset][model] = {}\n",
        "        matches = glob(model + '*' + dataset + '*.pt')\n",
        "        if len(matches):\n",
        "            data = torch.load(matches[0], map_location=lambda storage, loc: storage)\n",
        "            acc, bwt, fwt = data[3][:]\n",
        "            barplot[dataset][model]['acc'] = acc\n",
        "            barplot[dataset][model]['bwt'] = bwt\n",
        "            barplot[dataset][model]['fwt'] = fwt\n",
        "\n",
        "for dataset in datasets:\n",
        "    x_lab = []\n",
        "    y_acc = []\n",
        "    y_bwt = []\n",
        "    y_fwt = []\n",
        "\n",
        "    for i, model in enumerate(models):\n",
        "        if barplot[dataset][model] != {}:\n",
        "            x_lab.append(model)\n",
        "            y_acc.append(barplot[dataset][model]['acc'])\n",
        "            y_bwt.append(barplot[dataset][model]['bwt'])\n",
        "            y_fwt.append(barplot[dataset][model]['fwt'])\n",
        "\n",
        "    x_ind = np.arange(len(y_acc))\n",
        "\n",
        "    plt.figure(figsize=(7, 3))\n",
        "    all_colors = []\n",
        "    for xi, yi, li in zip(x_ind, y_acc, x_lab):\n",
        "        plt.bar(xi, yi, label=names_models[li], color=colors[li])\n",
        "        all_colors.append(colors[li])\n",
        "    plt.bar(x_ind + (len(y_acc) + 1) * 1, y_bwt, color=all_colors)\n",
        "    plt.bar(x_ind + (len(y_acc) + 1) * 2, y_fwt, color=all_colors)\n",
        "    plt.xticks([2, 8, 14], ['ACC', 'BWT', 'FWT'], fontsize=16)\n",
        "    plt.yticks(fontsize=16)\n",
        "    plt.xlim(-1, len(y_acc) * 3 + 2)\n",
        "    plt.ylabel('classification accuracy', fontsize=16)\n",
        "    plt.title(names_datasets[dataset], fontsize=16)\n",
        "    plt.legend(fontsize=12)\n",
        "    plt.tight_layout()\n",
        "    #plt.savefig('barplot_%s.pdf' % dataset, bbox_inches='tight')\n",
        "    plt.show()"
      ],
      "execution_count": 0,
      "outputs": [
        {
          "output_type": "display_data",
          "data": {
            "image/png": "[encoded data removed]",
            "text/plain": [
              "<Figure size 504x216 with 1 Axes>"
            ]
          },
          "metadata": {
            "tags": []
          }
        },
        {
          "output_type": "display_data",
          "data": {
            "image/png": "[encoded data removed]",
            "text/plain": [
              "<Figure size 504x216 with 1 Axes>"
            ]
          },
          "metadata": {
            "tags": []
          }
        }
      ]
    },
    {
      "cell_type": "markdown",
      "metadata": {
        "id": "f5P0hwBIIDeM",
        "colab_type": "text"
      },
      "source": [
        "The GEM model outperformed other models in terms of accuracy and maintained a high accuracy across task numbers, as well as a positive BWT (backward transfer) and the highest FWT (forward transfer)."
      ]
    },
    {
      "cell_type": "code",
      "metadata": {
        "id": "ak2R1Jlyr05M",
        "colab_type": "code",
        "outputId": "3b37d81f-0b31-41e2-c03a-de2c34e56527",
        "colab": {
          "base_uri": "https://localhost:8080/",
          "height": 433
        }
      },
      "source": [
        "evoplot = {}\n",
        "\n",
        "for dataset in datasets:\n",
        "    evoplot[dataset] = {}\n",
        "    for model in models:\n",
        "        matches = glob(model + '*' + dataset + '*.pt')\n",
        "        if len(matches):\n",
        "            data = torch.load(matches[0], map_location=lambda storage, loc: storage)\n",
        "            evoplot[dataset][model] = data[1][:, 0].numpy()\n",
        "\n",
        "for dataset in datasets:\n",
        "\n",
        "    plt.figure(figsize=(7, 3))\n",
        "    for model in models:\n",
        "        if model in evoplot[dataset]:\n",
        "            x = np.arange(len(evoplot[dataset][model]))\n",
        "            x = (x - x.min()) / (x.max() - x.min()) * 20\n",
        "            plt.plot(x, evoplot[dataset][model], color=colors[model], lw=3)\n",
        "            plt.xticks(range(0, 21, 2))\n",
        "\n",
        "    plt.xticks(fontsize=16)\n",
        "    plt.yticks(fontsize=16)\n",
        "    plt.xlabel('task number', fontsize=16)\n",
        "    plt.title(names_datasets[dataset], fontsize=16)\n",
        "    plt.tight_layout()\n",
        "    #plt.savefig('evoplot_%s.pdf' % dataset, bbox_inches='tight')\n",
        "    plt.show()"
      ],
      "execution_count": 0,
      "outputs": [
        {
          "output_type": "display_data",
          "data": {
            "image/png": "[encoded data removed]",
            "text/plain": [
              "<Figure size 504x216 with 1 Axes>"
            ]
          },
          "metadata": {
            "tags": []
          }
        },
        {
          "output_type": "display_data",
          "data": {
            "image/png": "[encoded data removed]",
            "text/plain": [
              "<Figure size 504x216 with 1 Axes>"
            ]
          },
          "metadata": {
            "tags": []
          }
        }
      ]
    },
    {
      "cell_type": "markdown",
      "metadata": {
        "id": "ddRATeKEAqDT",
        "colab_type": "text"
      },
      "source": [
        "## Testing Different Memory Strength"
      ]
    },
    {
      "cell_type": "markdown",
      "metadata": {
        "id": "n4pDq1YoedFD",
        "colab_type": "text"
      },
      "source": [
        "Running iterations of the GEM model with 0, 0.25, 0.5, 0.75, 1 memory strength,  keeping memory size constant at n_memories = 256. \n",
        "\n",
        "\n",
        "The paper outlined that the model performed best at 0.5 memory strength; however, we found that the moel at 1 memory strength had a higher over-all accuracy (0.5: 84.9%, 1: 86%), and a higher, more positive, backward transfer (0.5: 0.3%, 1: 1.5%). The forward transfer performance was only slightly lower than 0.5 memory strength (0.5: 66.1%, 1: 65.8%). The author stated that they also tested the GEM model at 1 memory strength, it is unclear if the authors chose 0.5 memory strength as the optimal paramter for other reasons. Perhaps the 0.5 memory strength performed better for other datasets. \n",
        "\n",
        "**We can conclude that the GEM model performs best on the rotated MNIST dataset at 1 memory strength, holding all else equal.**"
      ]
    },
    {
      "cell_type": "code",
      "metadata": {
        "id": "JdOqoT2UGW3i",
        "colab_type": "code",
        "outputId": "522443ee-3106-4d4b-a74a-621b78979b08",
        "colab": {
          "base_uri": "https://localhost:8080/",
          "height": 143
        }
      },
      "source": [
        "%cd /content/drive/My Drive/MNIST\n",
        "MNIST_ROTA=\"--n_layers 2 --n_hiddens 100 --data_path data/ --save_path results/ --batch_size 10 --log_every 100 --samples_per_task 1000 --data_file mnist_rotations.pt    --cuda no  --seed 0\"\n",
        "!python main.py $MNIST_ROTA --model gem --lr 0.1 --n_memories 256 --memory_strength 0\n",
        "!python main.py $MNIST_ROTA --model gem --lr 0.1 --n_memories 256 --memory_strength 0.25\n",
        "!python main.py $MNIST_ROTA --model gem --lr 0.1 --n_memories 256 --memory_strength 0.5 #baseline \n",
        "!python main.py $MNIST_ROTA --model gem --lr 0.1 --n_memories 256 --memory_strength 0.75\n",
        "!python main.py $MNIST_ROTA --model gem --lr 0.1 --n_memories 256 --memory_strength 1\n"
      ],
      "execution_count": 0,
      "outputs": [
        {
          "output_type": "stream",
          "text": [
            "/content/drive/My Drive/MNIST\n",
            "results/gem_mnist_rotations.pt_2020_04_05_16_12_44_780c707286a944e1890540d0756cd279: {'model': 'gem', 'n_hiddens': 100, 'n_layers': 2, 'n_memories': 256, 'memory_strength': 0.0, 'finetune': False, 'n_epochs': 1, 'batch_size': 10, 'lr': 0.1, 'cuda': False, 'seed': 0, 'log_every': 100, 'save_path': 'results/', 'data_path': 'data/', 'data_file': 'mnist_rotations.pt', 'samples_per_task': 1000, 'shuffle_tasks': 'no'} # 0.707 -0.160 0.698 # 109.67990207672119\n",
            "results/gem_mnist_rotations.pt_2020_04_05_16_16_36_c858dbde880842edb338aa6fdcc83630: {'model': 'gem', 'n_hiddens': 100, 'n_layers': 2, 'n_memories': 256, 'memory_strength': 0.25, 'finetune': False, 'n_epochs': 1, 'batch_size': 10, 'lr': 0.1, 'cuda': False, 'seed': 0, 'log_every': 100, 'save_path': 'results/', 'data_path': 'data/', 'data_file': 'mnist_rotations.pt', 'samples_per_task': 1000, 'shuffle_tasks': 'no'} # 0.831 -0.014 0.663 # 107.97500252723694\n",
            "results/gem_mnist_rotations.pt_2020_04_05_16_20_28_70477d862a9847898109d83f6fa51440: {'model': 'gem', 'n_hiddens': 100, 'n_layers': 2, 'n_memories': 256, 'memory_strength': 0.5, 'finetune': False, 'n_epochs': 1, 'batch_size': 10, 'lr': 0.1, 'cuda': False, 'seed': 0, 'log_every': 100, 'save_path': 'results/', 'data_path': 'data/', 'data_file': 'mnist_rotations.pt', 'samples_per_task': 1000, 'shuffle_tasks': 'no'} # 0.849 0.003 0.661 # 106.79553985595703\n",
            "results/gem_mnist_rotations.pt_2020_04_05_16_24_17_966c0abcb4d1475aa1a72c3debd4242f: {'model': 'gem', 'n_hiddens': 100, 'n_layers': 2, 'n_memories': 256, 'memory_strength': 0.75, 'finetune': False, 'n_epochs': 1, 'batch_size': 10, 'lr': 0.1, 'cuda': False, 'seed': 0, 'log_every': 100, 'save_path': 'results/', 'data_path': 'data/', 'data_file': 'mnist_rotations.pt', 'samples_per_task': 1000, 'shuffle_tasks': 'no'} # 0.683 -0.157 0.663 # 105.43528652191162\n",
            "results/gem_mnist_rotations.pt_2020_04_05_16_28_06_b74827924bce46b8925951f2b179aaa0: {'model': 'gem', 'n_hiddens': 100, 'n_layers': 2, 'n_memories': 256, 'memory_strength': 1.0, 'finetune': False, 'n_epochs': 1, 'batch_size': 10, 'lr': 0.1, 'cuda': False, 'seed': 0, 'log_every': 100, 'save_path': 'results/', 'data_path': 'data/', 'data_file': 'mnist_rotations.pt', 'samples_per_task': 1000, 'shuffle_tasks': 'no'} # 0.860 0.015 0.658 # 103.81882762908936\n"
          ],
          "name": "stdout"
        }
      ]
    },
    {
      "cell_type": "code",
      "metadata": {
        "id": "duM9M6IgJnZ4",
        "colab_type": "code",
        "colab": {}
      },
      "source": [
        "%cd /content/drive/My Drive/MNIST/Results\n",
        "ms_0 = \"gem_mnist_rotations.pt_2020_04_05_16_12_44_780c707286a944e1890540d0756cd279\"\n",
        "ms_25 = \"gem_mnist_rotations.pt_2020_04_05_16_16_36_c858dbde880842edb338aa6fdcc83630\"\n",
        "ms_5 = \"gem_mnist_rotations.pt_2020_04_05_16_20_28_70477d862a9847898109d83f6fa51440\"\n",
        "ms_75 = \"gem_mnist_rotations.pt_2020_04_05_16_24_17_966c0abcb4d1475aa1a72c3debd4242f\"\n",
        "ms_100 = \"gem_mnist_rotations.pt_2020_04_05_16_28_06_b74827924bce46b8925951f2b179aaa0\"\n",
        "rota_ms = [ms_0, ms_25, ms_5, ms_75, ms_100]"
      ],
      "execution_count": 0,
      "outputs": []
    },
    {
      "cell_type": "code",
      "metadata": {
        "id": "Lh8u_UOHKUvO",
        "colab_type": "code",
        "colab": {}
      },
      "source": [
        "stats = []\n",
        "for i, ms in enumerate(rota_ms): \n",
        "  data= torch.load(ms+\".pt\")\n",
        "  stats.append(data)"
      ],
      "execution_count": 0,
      "outputs": []
    },
    {
      "cell_type": "markdown",
      "metadata": {
        "id": "cTb77DFLfHOb",
        "colab_type": "text"
      },
      "source": [
        "### Evolution of Accuracy Across 20 Tasks\n",
        "Similar to how it was done in the paper, I am graphing the evolution of the test\n",
        "accuracy at the first task"
      ]
    },
    {
      "cell_type": "code",
      "metadata": {
        "id": "H9WQZRMSMv8r",
        "colab_type": "code",
        "colab": {}
      },
      "source": [
        "acc = []\n",
        "for i in range(len(stats)):\n",
        "  acc.append(stats[i][1][:, 0].numpy())"
      ],
      "execution_count": 0,
      "outputs": []
    },
    {
      "cell_type": "code",
      "metadata": {
        "id": "dtZkyeDyP0QF",
        "colab_type": "code",
        "colab": {}
      },
      "source": [
        "source = pd.DataFrame({\n",
        "  'task': np.linspace(0, 20, num=21), \n",
        "  '0%': acc[0],\n",
        "  '25%': acc[1],\n",
        "  '50%': acc[2],\n",
        "  '75%': acc[3],\n",
        "  '100%': acc[4]\n",
        "}).melt('task', var_name='memory strength', value_name='accuracy')"
      ],
      "execution_count": 0,
      "outputs": []
    },
    {
      "cell_type": "code",
      "metadata": {
        "id": "YBzcySVVSbRI",
        "colab_type": "code",
        "outputId": "ee7a49ff-0d0c-4893-f404-aade160b0c11",
        "colab": {
          "base_uri": "https://localhost:8080/",
          "height": 368
        }
      },
      "source": [
        "alt.Chart(source).mark_line().encode(\n",
        "    x='task:O',\n",
        "    y='accuracy:Q',\n",
        "    color=alt.Color('memory strength:N', sort=['0%', '25%'])\n",
        ").properties(\n",
        "    width=600,\n",
        "    height=300\n",
        ").interactive()"
      ],
      "execution_count": 0,
      "outputs": [
        {
          "output_type": "execute_result",
          "data": {
            "text/plain": [
              "alt.Chart(...)"
            ],
            "text/html": [
              "\n",
              "<div id=\"altair-viz-b8befc11548647f68e04984099337a9c\"></div>\n",
              "<script type=\"text/javascript\">\n",
              "  (function(spec, embedOpt){\n",
              "    const outputDiv = document.getElementById(\"altair-viz-b8befc11548647f68e04984099337a9c\");\n",
              "    const paths = {\n",
              "      \"vega\": \"https://cdn.jsdelivr.net/npm//vega@5?noext\",\n",
              "      \"vega-lib\": \"https://cdn.jsdelivr.net/npm//vega-lib?noext\",\n",
              "      \"vega-lite\": \"https://cdn.jsdelivr.net/npm//vega-lite@4.0.2?noext\",\n",
              "      \"vega-embed\": \"https://cdn.jsdelivr.net/npm//vega-embed@6?noext\",\n",
              "    };\n",
              "\n",
              "    function loadScript(lib) {\n",
              "      return new Promise(function(resolve, reject) {\n",
              "        var s = document.createElement('script');\n",
              "        s.src = paths[lib];\n",
              "        s.async = true;\n",
              "        s.onload = () => resolve(paths[lib]);\n",
              "        s.onerror = () => reject(`Error loading script: ${paths[lib]}`);\n",
              "        document.getElementsByTagName(\"head\")[0].appendChild(s);\n",
              "      });\n",
              "    }\n",
              "\n",
              "    function showError(err) {\n",
              "      outputDiv.innerHTML = `<div class=\"error\" style=\"color:red;\">${err}</div>`;\n",
              "      throw err;\n",
              "    }\n",
              "\n",
              "    function displayChart(vegaEmbed) {\n",
              "      vegaEmbed(outputDiv, spec, embedOpt)\n",
              "        .catch(err => showError(`Javascript Error: ${err.message}<br>This usually means there's a typo in your chart specification. See the javascript console for the full traceback.`));\n",
              "    }\n",
              "\n",
              "    if(typeof define === \"function\" && define.amd) {\n",
              "      requirejs.config({paths});\n",
              "      require([\"vega-embed\"], displayChart, err => showError(`Error loading script: ${err.message}`));\n",
              "    } else if (typeof vegaEmbed === \"function\") {\n",
              "      displayChart(vegaEmbed);\n",
              "    } else {\n",
              "      loadScript(\"vega\")\n",
              "        .then(() => loadScript(\"vega-lite\"))\n",
              "        .then(() => loadScript(\"vega-embed\"))\n",
              "        .catch(showError)\n",
              "        .then(() => displayChart(vegaEmbed));\n",
              "    }\n",
              "  })({\"config\": {\"view\": {\"continuousWidth\": 400, \"continuousHeight\": 300}}, \"data\": {\"name\": \"data-ecbd92371060c4b054c75e24a7a6ba94\"}, \"mark\": \"line\", \"encoding\": {\"color\": {\"type\": \"nominal\", \"field\": \"memory strength\", \"sort\": [\"0%\", \"25%\"]}, \"x\": {\"type\": \"ordinal\", \"field\": \"task\"}, \"y\": {\"type\": \"quantitative\", \"field\": \"accuracy\"}}, \"height\": 300, \"selection\": {\"selector018\": {\"type\": \"interval\", \"bind\": \"scales\", \"encodings\": [\"x\", \"y\"]}}, \"width\": 600, \"$schema\": \"https://vega.github.io/schema/vega-lite/v4.0.2.json\", \"datasets\": {\"data-ecbd92371060c4b054c75e24a7a6ba94\": [{\"task\": 0.0, \"memory strength\": \"0%\", \"accuracy\": 0.1080000028014183}, {\"task\": 1.0, \"memory strength\": \"0%\", \"accuracy\": 0.7050999999046326}, {\"task\": 2.0, \"memory strength\": \"0%\", \"accuracy\": 0.8651000261306763}, {\"task\": 3.0, \"memory strength\": \"0%\", \"accuracy\": 0.8549000024795532}, {\"task\": 4.0, \"memory strength\": \"0%\", \"accuracy\": 0.8112999796867371}, {\"task\": 5.0, \"memory strength\": \"0%\", \"accuracy\": 0.7208999991416931}, {\"task\": 6.0, \"memory strength\": \"0%\", \"accuracy\": 0.6571999788284302}, {\"task\": 7.0, \"memory strength\": \"0%\", \"accuracy\": 0.583299994468689}, {\"task\": 8.0, \"memory strength\": \"0%\", \"accuracy\": 0.5874000191688538}, {\"task\": 9.0, \"memory strength\": \"0%\", \"accuracy\": 0.5394999980926514}, {\"task\": 10.0, \"memory strength\": \"0%\", \"accuracy\": 0.5546000003814697}, {\"task\": 11.0, \"memory strength\": \"0%\", \"accuracy\": 0.5573999881744385}, {\"task\": 12.0, \"memory strength\": \"0%\", \"accuracy\": 0.580299973487854}, {\"task\": 13.0, \"memory strength\": \"0%\", \"accuracy\": 0.5159000158309937}, {\"task\": 14.0, \"memory strength\": \"0%\", \"accuracy\": 0.5333999991416931}, {\"task\": 15.0, \"memory strength\": \"0%\", \"accuracy\": 0.5138000249862671}, {\"task\": 16.0, \"memory strength\": \"0%\", \"accuracy\": 0.4675999879837036}, {\"task\": 17.0, \"memory strength\": \"0%\", \"accuracy\": 0.4359999895095825}, {\"task\": 18.0, \"memory strength\": \"0%\", \"accuracy\": 0.41440001130104065}, {\"task\": 19.0, \"memory strength\": \"0%\", \"accuracy\": 0.35370001196861267}, {\"task\": 20.0, \"memory strength\": \"0%\", \"accuracy\": 0.44190001487731934}, {\"task\": 0.0, \"memory strength\": \"25%\", \"accuracy\": 0.1080000028014183}, {\"task\": 1.0, \"memory strength\": \"25%\", \"accuracy\": 0.7050999999046326}, {\"task\": 2.0, \"memory strength\": \"25%\", \"accuracy\": 0.8614000082015991}, {\"task\": 3.0, \"memory strength\": \"25%\", \"accuracy\": 0.8532000184059143}, {\"task\": 4.0, \"memory strength\": \"25%\", \"accuracy\": 0.8317000269889832}, {\"task\": 5.0, \"memory strength\": \"25%\", \"accuracy\": 0.7850000262260437}, {\"task\": 6.0, \"memory strength\": \"25%\", \"accuracy\": 0.8032000064849854}, {\"task\": 7.0, \"memory strength\": \"25%\", \"accuracy\": 0.7875999808311462}, {\"task\": 8.0, \"memory strength\": \"25%\", \"accuracy\": 0.8134999871253967}, {\"task\": 9.0, \"memory strength\": \"25%\", \"accuracy\": 0.7978000044822693}, {\"task\": 10.0, \"memory strength\": \"25%\", \"accuracy\": 0.8422999978065491}, {\"task\": 11.0, \"memory strength\": \"25%\", \"accuracy\": 0.8151000142097473}, {\"task\": 12.0, \"memory strength\": \"25%\", \"accuracy\": 0.8144000172615051}, {\"task\": 13.0, \"memory strength\": \"25%\", \"accuracy\": 0.7247999906539917}, {\"task\": 14.0, \"memory strength\": \"25%\", \"accuracy\": 0.7024999856948853}, {\"task\": 15.0, \"memory strength\": \"25%\", \"accuracy\": 0.7351999878883362}, {\"task\": 16.0, \"memory strength\": \"25%\", \"accuracy\": 0.7516000270843506}, {\"task\": 17.0, \"memory strength\": \"25%\", \"accuracy\": 0.7965999841690063}, {\"task\": 18.0, \"memory strength\": \"25%\", \"accuracy\": 0.765500009059906}, {\"task\": 19.0, \"memory strength\": \"25%\", \"accuracy\": 0.7175999879837036}, {\"task\": 20.0, \"memory strength\": \"25%\", \"accuracy\": 0.7466999888420105}, {\"task\": 0.0, \"memory strength\": \"50%\", \"accuracy\": 0.1080000028014183}, {\"task\": 1.0, \"memory strength\": \"50%\", \"accuracy\": 0.7050999999046326}, {\"task\": 2.0, \"memory strength\": \"50%\", \"accuracy\": 0.8621000051498413}, {\"task\": 3.0, \"memory strength\": \"50%\", \"accuracy\": 0.8585000038146973}, {\"task\": 4.0, \"memory strength\": \"50%\", \"accuracy\": 0.8495000004768372}, {\"task\": 5.0, \"memory strength\": \"50%\", \"accuracy\": 0.8065000176429749}, {\"task\": 6.0, \"memory strength\": \"50%\", \"accuracy\": 0.8159999847412109}, {\"task\": 7.0, \"memory strength\": \"50%\", \"accuracy\": 0.8119999766349792}, {\"task\": 8.0, \"memory strength\": \"50%\", \"accuracy\": 0.8375999927520752}, {\"task\": 9.0, \"memory strength\": \"50%\", \"accuracy\": 0.8116000294685364}, {\"task\": 10.0, \"memory strength\": \"50%\", \"accuracy\": 0.8163999915122986}, {\"task\": 11.0, \"memory strength\": \"50%\", \"accuracy\": 0.819100022315979}, {\"task\": 12.0, \"memory strength\": \"50%\", \"accuracy\": 0.805400013923645}, {\"task\": 13.0, \"memory strength\": \"50%\", \"accuracy\": 0.7749999761581421}, {\"task\": 14.0, \"memory strength\": \"50%\", \"accuracy\": 0.7939000129699707}, {\"task\": 15.0, \"memory strength\": \"50%\", \"accuracy\": 0.7515000104904175}, {\"task\": 16.0, \"memory strength\": \"50%\", \"accuracy\": 0.78329998254776}, {\"task\": 17.0, \"memory strength\": \"50%\", \"accuracy\": 0.7828999757766724}, {\"task\": 18.0, \"memory strength\": \"50%\", \"accuracy\": 0.7996000051498413}, {\"task\": 19.0, \"memory strength\": \"50%\", \"accuracy\": 0.7538999915122986}, {\"task\": 20.0, \"memory strength\": \"50%\", \"accuracy\": 0.7851999998092651}, {\"task\": 0.0, \"memory strength\": \"75%\", \"accuracy\": 0.1080000028014183}, {\"task\": 1.0, \"memory strength\": \"75%\", \"accuracy\": 0.7050999999046326}, {\"task\": 2.0, \"memory strength\": \"75%\", \"accuracy\": 0.8661999702453613}, {\"task\": 3.0, \"memory strength\": \"75%\", \"accuracy\": 0.8597000241279602}, {\"task\": 4.0, \"memory strength\": \"75%\", \"accuracy\": 0.8567000031471252}, {\"task\": 5.0, \"memory strength\": \"75%\", \"accuracy\": 0.821399986743927}, {\"task\": 6.0, \"memory strength\": \"75%\", \"accuracy\": 0.8337000012397766}, {\"task\": 7.0, \"memory strength\": \"75%\", \"accuracy\": 0.809499979019165}, {\"task\": 8.0, \"memory strength\": \"75%\", \"accuracy\": 0.8382999897003174}, {\"task\": 9.0, \"memory strength\": \"75%\", \"accuracy\": 0.808899998664856}, {\"task\": 10.0, \"memory strength\": \"75%\", \"accuracy\": 0.8246999979019165}, {\"task\": 11.0, \"memory strength\": \"75%\", \"accuracy\": 0.8359000086784363}, {\"task\": 12.0, \"memory strength\": \"75%\", \"accuracy\": 0.8434000015258789}, {\"task\": 13.0, \"memory strength\": \"75%\", \"accuracy\": 0.8047999739646912}, {\"task\": 14.0, \"memory strength\": \"75%\", \"accuracy\": 0.8245000243186951}, {\"task\": 15.0, \"memory strength\": \"75%\", \"accuracy\": 0.7742999792098999}, {\"task\": 16.0, \"memory strength\": \"75%\", \"accuracy\": 0.7768999934196472}, {\"task\": 17.0, \"memory strength\": \"75%\", \"accuracy\": 0.8234000205993652}, {\"task\": 18.0, \"memory strength\": \"75%\", \"accuracy\": 0.8216999769210815}, {\"task\": 19.0, \"memory strength\": \"75%\", \"accuracy\": 0.8016999959945679}, {\"task\": 20.0, \"memory strength\": \"75%\", \"accuracy\": 0.5842000246047974}, {\"task\": 0.0, \"memory strength\": \"100%\", \"accuracy\": 0.1080000028014183}, {\"task\": 1.0, \"memory strength\": \"100%\", \"accuracy\": 0.7050999999046326}, {\"task\": 2.0, \"memory strength\": \"100%\", \"accuracy\": 0.8662999868392944}, {\"task\": 3.0, \"memory strength\": \"100%\", \"accuracy\": 0.8586000204086304}, {\"task\": 4.0, \"memory strength\": \"100%\", \"accuracy\": 0.8514999747276306}, {\"task\": 5.0, \"memory strength\": \"100%\", \"accuracy\": 0.8086000084877014}, {\"task\": 6.0, \"memory strength\": \"100%\", \"accuracy\": 0.8402000069618225}, {\"task\": 7.0, \"memory strength\": \"100%\", \"accuracy\": 0.824999988079071}, {\"task\": 8.0, \"memory strength\": \"100%\", \"accuracy\": 0.849399983882904}, {\"task\": 9.0, \"memory strength\": \"100%\", \"accuracy\": 0.8287000060081482}, {\"task\": 10.0, \"memory strength\": \"100%\", \"accuracy\": 0.8256000280380249}, {\"task\": 11.0, \"memory strength\": \"100%\", \"accuracy\": 0.8321999907493591}, {\"task\": 12.0, \"memory strength\": \"100%\", \"accuracy\": 0.8313000202178955}, {\"task\": 13.0, \"memory strength\": \"100%\", \"accuracy\": 0.8282999992370605}, {\"task\": 14.0, \"memory strength\": \"100%\", \"accuracy\": 0.8112000226974487}, {\"task\": 15.0, \"memory strength\": \"100%\", \"accuracy\": 0.7646999955177307}, {\"task\": 16.0, \"memory strength\": \"100%\", \"accuracy\": 0.7864999771118164}, {\"task\": 17.0, \"memory strength\": \"100%\", \"accuracy\": 0.7980999946594238}, {\"task\": 18.0, \"memory strength\": \"100%\", \"accuracy\": 0.8227999806404114}, {\"task\": 19.0, \"memory strength\": \"100%\", \"accuracy\": 0.7858999967575073}, {\"task\": 20.0, \"memory strength\": \"100%\", \"accuracy\": 0.8105999827384949}]}}, {\"mode\": \"vega-lite\"});\n",
              "</script>"
            ]
          },
          "metadata": {
            "tags": []
          },
          "execution_count": 262
        }
      ]
    },
    {
      "cell_type": "markdown",
      "metadata": {
        "id": "eSwV7sQofK4E",
        "colab_type": "text"
      },
      "source": [
        "### Accuracy Across Memory Strength"
      ]
    },
    {
      "cell_type": "code",
      "metadata": {
        "id": "--wGyZlmKH83",
        "colab_type": "code",
        "colab": {}
      },
      "source": [
        "acc = []\n",
        "for i in range(len(stats)):\n",
        "  acc.append(stats[i][3][0].cpu().numpy())"
      ],
      "execution_count": 0,
      "outputs": []
    },
    {
      "cell_type": "code",
      "metadata": {
        "id": "SP_xtATpfd-v",
        "colab_type": "code",
        "colab": {}
      },
      "source": [
        "source = pd.DataFrame({\n",
        "  '0%': acc[0],\n",
        "  '25%': acc[1],\n",
        "  '50%': acc[2],\n",
        "  '75%': acc[3],\n",
        "  '100%': acc[4]\n",
        "}, index=[0]).melt(var_name='memory strength', value_name='accuracy')"
      ],
      "execution_count": 0,
      "outputs": []
    },
    {
      "cell_type": "code",
      "metadata": {
        "id": "MwHizqfnh1VW",
        "colab_type": "code",
        "outputId": "8083b362-df56-459d-e313-e2122899cce6",
        "colab": {
          "base_uri": "https://localhost:8080/",
          "height": 383
        }
      },
      "source": [
        "alt.Chart(source).mark_bar().encode(\n",
        "    x=alt.X('memory strength:N',sort=['0%', '25%']),\n",
        "    y='accuracy:Q',\n",
        "    color=alt.Color('memory strength:N', sort=['0%', '25%'])\n",
        ").properties(\n",
        "    width=600,\n",
        "    height=300\n",
        ").interactive()"
      ],
      "execution_count": 0,
      "outputs": [
        {
          "output_type": "execute_result",
          "data": {
            "text/plain": [
              "alt.Chart(...)"
            ],
            "text/html": [
              "\n",
              "<div id=\"altair-viz-cecff8fa9ac847349393958dd4383b23\"></div>\n",
              "<script type=\"text/javascript\">\n",
              "  (function(spec, embedOpt){\n",
              "    const outputDiv = document.getElementById(\"altair-viz-cecff8fa9ac847349393958dd4383b23\");\n",
              "    const paths = {\n",
              "      \"vega\": \"https://cdn.jsdelivr.net/npm//vega@5?noext\",\n",
              "      \"vega-lib\": \"https://cdn.jsdelivr.net/npm//vega-lib?noext\",\n",
              "      \"vega-lite\": \"https://cdn.jsdelivr.net/npm//vega-lite@4.0.2?noext\",\n",
              "      \"vega-embed\": \"https://cdn.jsdelivr.net/npm//vega-embed@6?noext\",\n",
              "    };\n",
              "\n",
              "    function loadScript(lib) {\n",
              "      return new Promise(function(resolve, reject) {\n",
              "        var s = document.createElement('script');\n",
              "        s.src = paths[lib];\n",
              "        s.async = true;\n",
              "        s.onload = () => resolve(paths[lib]);\n",
              "        s.onerror = () => reject(`Error loading script: ${paths[lib]}`);\n",
              "        document.getElementsByTagName(\"head\")[0].appendChild(s);\n",
              "      });\n",
              "    }\n",
              "\n",
              "    function showError(err) {\n",
              "      outputDiv.innerHTML = `<div class=\"error\" style=\"color:red;\">${err}</div>`;\n",
              "      throw err;\n",
              "    }\n",
              "\n",
              "    function displayChart(vegaEmbed) {\n",
              "      vegaEmbed(outputDiv, spec, embedOpt)\n",
              "        .catch(err => showError(`Javascript Error: ${err.message}<br>This usually means there's a typo in your chart specification. See the javascript console for the full traceback.`));\n",
              "    }\n",
              "\n",
              "    if(typeof define === \"function\" && define.amd) {\n",
              "      requirejs.config({paths});\n",
              "      require([\"vega-embed\"], displayChart, err => showError(`Error loading script: ${err.message}`));\n",
              "    } else if (typeof vegaEmbed === \"function\") {\n",
              "      displayChart(vegaEmbed);\n",
              "    } else {\n",
              "      loadScript(\"vega\")\n",
              "        .then(() => loadScript(\"vega-lite\"))\n",
              "        .then(() => loadScript(\"vega-embed\"))\n",
              "        .catch(showError)\n",
              "        .then(() => displayChart(vegaEmbed));\n",
              "    }\n",
              "  })({\"config\": {\"view\": {\"continuousWidth\": 400, \"continuousHeight\": 300}}, \"data\": {\"name\": \"data-471abb3e9d633146f84debb9c3fd04b8\"}, \"mark\": \"bar\", \"encoding\": {\"color\": {\"type\": \"nominal\", \"field\": \"memory strength\", \"sort\": [\"0%\", \"25%\"]}, \"x\": {\"type\": \"nominal\", \"field\": \"memory strength\", \"sort\": [\"0%\", \"25%\"]}, \"y\": {\"type\": \"quantitative\", \"field\": \"accuracy\"}}, \"height\": 300, \"selection\": {\"selector011\": {\"type\": \"interval\", \"bind\": \"scales\", \"encodings\": [\"x\", \"y\"]}}, \"width\": 600, \"$schema\": \"https://vega.github.io/schema/vega-lite/v4.0.2.json\", \"datasets\": {\"data-471abb3e9d633146f84debb9c3fd04b8\": [{\"memory strength\": \"0%\", \"accuracy\": 0.7073050141334534}, {\"memory strength\": \"25%\", \"accuracy\": 0.8308550119400024}, {\"memory strength\": \"50%\", \"accuracy\": 0.849000096321106}, {\"memory strength\": \"75%\", \"accuracy\": 0.6831749677658081}, {\"memory strength\": \"100%\", \"accuracy\": 0.859790027141571}]}}, {\"mode\": \"vega-lite\"});\n",
              "</script>"
            ]
          },
          "metadata": {
            "tags": []
          },
          "execution_count": 236
        }
      ]
    },
    {
      "cell_type": "markdown",
      "metadata": {
        "id": "Ybr-E4m3j_We",
        "colab_type": "text"
      },
      "source": [
        "### Backward Transfer Across Memory Strength\n",
        "\n",
        "\n",
        "Catastrophic forgetting is observed where backward transfer is negative.\n"
      ]
    },
    {
      "cell_type": "code",
      "metadata": {
        "colab_type": "code",
        "id": "3D7_HvxWjHH9",
        "colab": {}
      },
      "source": [
        "acc = []\n",
        "for i in range(len(stats)):\n",
        "  acc.append(stats[i][3][1].cpu().numpy())"
      ],
      "execution_count": 0,
      "outputs": []
    },
    {
      "cell_type": "code",
      "metadata": {
        "colab_type": "code",
        "id": "0bRnet1HjHIE",
        "colab": {}
      },
      "source": [
        "source = pd.DataFrame({\n",
        "  '0%': acc[0],\n",
        "  '25%': acc[1],\n",
        "  '50%': acc[2],\n",
        "  '75%': acc[3],\n",
        "  '100%': acc[4]\n",
        "}, index=[0]).melt(var_name='memory strength', value_name='backward transfer')"
      ],
      "execution_count": 0,
      "outputs": []
    },
    {
      "cell_type": "code",
      "metadata": {
        "colab_type": "code",
        "outputId": "d876fe39-0437-4238-f55c-3a9b6a31a26b",
        "id": "2WfP8b3NjHIG",
        "colab": {
          "base_uri": "https://localhost:8080/",
          "height": 383
        }
      },
      "source": [
        "alt.Chart(source).mark_bar().encode(\n",
        "    x=alt.X('memory strength:N',sort=['0%', '25%']),\n",
        "    y='backward transfer:Q',\n",
        "    color=alt.Color('memory strength:N', sort=['0%', '25%'])\n",
        ").properties(\n",
        "    width=600,\n",
        "    height=300\n",
        ").interactive()"
      ],
      "execution_count": 0,
      "outputs": [
        {
          "output_type": "execute_result",
          "data": {
            "text/plain": [
              "alt.Chart(...)"
            ],
            "text/html": [
              "\n",
              "<div id=\"altair-viz-96274218721f458ea60a3d237099912b\"></div>\n",
              "<script type=\"text/javascript\">\n",
              "  (function(spec, embedOpt){\n",
              "    const outputDiv = document.getElementById(\"altair-viz-96274218721f458ea60a3d237099912b\");\n",
              "    const paths = {\n",
              "      \"vega\": \"https://cdn.jsdelivr.net/npm//vega@5?noext\",\n",
              "      \"vega-lib\": \"https://cdn.jsdelivr.net/npm//vega-lib?noext\",\n",
              "      \"vega-lite\": \"https://cdn.jsdelivr.net/npm//vega-lite@4.0.2?noext\",\n",
              "      \"vega-embed\": \"https://cdn.jsdelivr.net/npm//vega-embed@6?noext\",\n",
              "    };\n",
              "\n",
              "    function loadScript(lib) {\n",
              "      return new Promise(function(resolve, reject) {\n",
              "        var s = document.createElement('script');\n",
              "        s.src = paths[lib];\n",
              "        s.async = true;\n",
              "        s.onload = () => resolve(paths[lib]);\n",
              "        s.onerror = () => reject(`Error loading script: ${paths[lib]}`);\n",
              "        document.getElementsByTagName(\"head\")[0].appendChild(s);\n",
              "      });\n",
              "    }\n",
              "\n",
              "    function showError(err) {\n",
              "      outputDiv.innerHTML = `<div class=\"error\" style=\"color:red;\">${err}</div>`;\n",
              "      throw err;\n",
              "    }\n",
              "\n",
              "    function displayChart(vegaEmbed) {\n",
              "      vegaEmbed(outputDiv, spec, embedOpt)\n",
              "        .catch(err => showError(`Javascript Error: ${err.message}<br>This usually means there's a typo in your chart specification. See the javascript console for the full traceback.`));\n",
              "    }\n",
              "\n",
              "    if(typeof define === \"function\" && define.amd) {\n",
              "      requirejs.config({paths});\n",
              "      require([\"vega-embed\"], displayChart, err => showError(`Error loading script: ${err.message}`));\n",
              "    } else if (typeof vegaEmbed === \"function\") {\n",
              "      displayChart(vegaEmbed);\n",
              "    } else {\n",
              "      loadScript(\"vega\")\n",
              "        .then(() => loadScript(\"vega-lite\"))\n",
              "        .then(() => loadScript(\"vega-embed\"))\n",
              "        .catch(showError)\n",
              "        .then(() => displayChart(vegaEmbed));\n",
              "    }\n",
              "  })({\"config\": {\"view\": {\"continuousWidth\": 400, \"continuousHeight\": 300}}, \"data\": {\"name\": \"data-c2fff9acdb7522af2f6346abed3b0c61\"}, \"mark\": \"bar\", \"encoding\": {\"color\": {\"type\": \"nominal\", \"field\": \"memory strength\", \"sort\": [\"0%\", \"25%\"]}, \"x\": {\"type\": \"nominal\", \"field\": \"memory strength\", \"sort\": [\"0%\", \"25%\"]}, \"y\": {\"type\": \"quantitative\", \"field\": \"backward transfer\"}}, \"height\": 300, \"selection\": {\"selector013\": {\"type\": \"interval\", \"bind\": \"scales\", \"encodings\": [\"x\", \"y\"]}}, \"width\": 600, \"$schema\": \"https://vega.github.io/schema/vega-lite/v4.0.2.json\", \"datasets\": {\"data-c2fff9acdb7522af2f6346abed3b0c61\": [{\"memory strength\": \"0%\", \"backward transfer\": -0.16042500734329224}, {\"memory strength\": \"25%\", \"backward transfer\": -0.013805001974105835}, {\"memory strength\": \"50%\", \"backward transfer\": 0.002920007798820734}, {\"memory strength\": \"75%\", \"backward transfer\": -0.15687501430511475}, {\"memory strength\": \"100%\", \"backward transfer\": 0.014664995484054089}]}}, {\"mode\": \"vega-lite\"});\n",
              "</script>"
            ]
          },
          "metadata": {
            "tags": []
          },
          "execution_count": 241
        }
      ]
    },
    {
      "cell_type": "markdown",
      "metadata": {
        "id": "xa8Jy2rZkWwb",
        "colab_type": "text"
      },
      "source": [
        "### Forward Transfer Across Memory Strength\n"
      ]
    },
    {
      "cell_type": "code",
      "metadata": {
        "colab_type": "code",
        "id": "1sxvd6OIjkGb",
        "colab": {}
      },
      "source": [
        "acc = []\n",
        "for i in range(len(stats)):\n",
        "  acc.append(stats[i][3][2].cpu().numpy())"
      ],
      "execution_count": 0,
      "outputs": []
    },
    {
      "cell_type": "code",
      "metadata": {
        "colab_type": "code",
        "id": "maQRSSMVjkGg",
        "colab": {}
      },
      "source": [
        "source = pd.DataFrame({\n",
        "  '0%': acc[0],\n",
        "  '25%': acc[1],\n",
        "  '50%': acc[2],\n",
        "  '75%': acc[3],\n",
        "  '100%': acc[4]\n",
        "}, index=[0]).melt(var_name='memory strength', value_name='forward transfer') "
      ],
      "execution_count": 0,
      "outputs": []
    },
    {
      "cell_type": "code",
      "metadata": {
        "colab_type": "code",
        "outputId": "ba3cbb76-eabd-4182-f1f4-f1debf8d197a",
        "id": "UaRmsKDhjkGi",
        "colab": {
          "base_uri": "https://localhost:8080/",
          "height": 383
        }
      },
      "source": [
        "alt.Chart(source).mark_bar().encode(\n",
        "    x=alt.X('memory strength:N',sort=['0%', '25%']),\n",
        "    y='forward transfer:Q',\n",
        "    color=alt.Color('memory strength:N', sort=['0%', '25%'])\n",
        ").properties(\n",
        "    width=600,\n",
        "    height=300\n",
        ").interactive()"
      ],
      "execution_count": 0,
      "outputs": [
        {
          "output_type": "execute_result",
          "data": {
            "text/plain": [
              "alt.Chart(...)"
            ],
            "text/html": [
              "\n",
              "<div id=\"altair-viz-a3fb827604ad41b1ba29e83912b570bb\"></div>\n",
              "<script type=\"text/javascript\">\n",
              "  (function(spec, embedOpt){\n",
              "    const outputDiv = document.getElementById(\"altair-viz-a3fb827604ad41b1ba29e83912b570bb\");\n",
              "    const paths = {\n",
              "      \"vega\": \"https://cdn.jsdelivr.net/npm//vega@5?noext\",\n",
              "      \"vega-lib\": \"https://cdn.jsdelivr.net/npm//vega-lib?noext\",\n",
              "      \"vega-lite\": \"https://cdn.jsdelivr.net/npm//vega-lite@4.0.2?noext\",\n",
              "      \"vega-embed\": \"https://cdn.jsdelivr.net/npm//vega-embed@6?noext\",\n",
              "    };\n",
              "\n",
              "    function loadScript(lib) {\n",
              "      return new Promise(function(resolve, reject) {\n",
              "        var s = document.createElement('script');\n",
              "        s.src = paths[lib];\n",
              "        s.async = true;\n",
              "        s.onload = () => resolve(paths[lib]);\n",
              "        s.onerror = () => reject(`Error loading script: ${paths[lib]}`);\n",
              "        document.getElementsByTagName(\"head\")[0].appendChild(s);\n",
              "      });\n",
              "    }\n",
              "\n",
              "    function showError(err) {\n",
              "      outputDiv.innerHTML = `<div class=\"error\" style=\"color:red;\">${err}</div>`;\n",
              "      throw err;\n",
              "    }\n",
              "\n",
              "    function displayChart(vegaEmbed) {\n",
              "      vegaEmbed(outputDiv, spec, embedOpt)\n",
              "        .catch(err => showError(`Javascript Error: ${err.message}<br>This usually means there's a typo in your chart specification. See the javascript console for the full traceback.`));\n",
              "    }\n",
              "\n",
              "    if(typeof define === \"function\" && define.amd) {\n",
              "      requirejs.config({paths});\n",
              "      require([\"vega-embed\"], displayChart, err => showError(`Error loading script: ${err.message}`));\n",
              "    } else if (typeof vegaEmbed === \"function\") {\n",
              "      displayChart(vegaEmbed);\n",
              "    } else {\n",
              "      loadScript(\"vega\")\n",
              "        .then(() => loadScript(\"vega-lite\"))\n",
              "        .then(() => loadScript(\"vega-embed\"))\n",
              "        .catch(showError)\n",
              "        .then(() => displayChart(vegaEmbed));\n",
              "    }\n",
              "  })({\"config\": {\"view\": {\"continuousWidth\": 400, \"continuousHeight\": 300}}, \"data\": {\"name\": \"data-66685a6fa0ab740b2631f4f510d8dbd0\"}, \"mark\": \"bar\", \"encoding\": {\"color\": {\"type\": \"nominal\", \"field\": \"memory strength\", \"sort\": [\"0%\", \"25%\"]}, \"x\": {\"type\": \"nominal\", \"field\": \"memory strength\", \"sort\": [\"0%\", \"25%\"]}, \"y\": {\"type\": \"quantitative\", \"field\": \"forward transfer\"}}, \"height\": 300, \"selection\": {\"selector016\": {\"type\": \"interval\", \"bind\": \"scales\", \"encodings\": [\"x\", \"y\"]}}, \"width\": 600, \"$schema\": \"https://vega.github.io/schema/vega-lite/v4.0.2.json\", \"datasets\": {\"data-66685a6fa0ab740b2631f4f510d8dbd0\": [{\"memory strength\": \"0%\", \"forward transfer\": 0.6980099678039551}, {\"memory strength\": \"25%\", \"forward transfer\": 0.6627449989318848}, {\"memory strength\": \"50%\", \"forward transfer\": 0.6614550352096558}, {\"memory strength\": \"75%\", \"forward transfer\": 0.6631750464439392}, {\"memory strength\": \"100%\", \"forward transfer\": 0.658394992351532}]}}, {\"mode\": \"vega-lite\"});\n",
              "</script>"
            ]
          },
          "metadata": {
            "tags": []
          },
          "execution_count": 248
        }
      ]
    },
    {
      "cell_type": "markdown",
      "metadata": {
        "id": "fEgCYmlVxMdh",
        "colab_type": "text"
      },
      "source": [
        "## Testing Different Memory Size\n",
        "\n",
        "Running iterations of the GEM model with n_memories = 256, 512, 1024, 2048, 4096, 8192, and 16384, keeing memory strength constant at 0.5. Bigger is not always better in this case, as the performance metrics peaks when n_memories = 2048, and decreases as n_memories grows further"
      ]
    },
    {
      "cell_type": "code",
      "metadata": {
        "id": "nVXvTaSixPc_",
        "colab_type": "code",
        "outputId": "bcbe55ff-d2b8-4b75-8d40-5c85c73f2f26",
        "colab": {
          "base_uri": "https://localhost:8080/",
          "height": 72
        }
      },
      "source": [
        "%cd /content/drive/My Drive/MNIST\n",
        "MNIST_ROTA=\"--n_layers 2 --n_hiddens 100 --data_path data/ --save_path results/ --batch_size 10 --log_every 100 --samples_per_task 1000 --data_file mnist_rotations.pt    --cuda no  --seed 0\"\n",
        "!python main.py $MNIST_ROTA --model gem --lr 0.1 --n_memories 256 --memory_strength 0.5 #baseline\n",
        "!python main.py $MNIST_ROTA --model gem --lr 0.1 --n_memories 512 --memory_strength 0.5\n",
        "!python main.py $MNIST_ROTA --model gem --lr 0.1 --n_memories 1024 --memory_strength 0.5\n",
        "!python main.py $MNIST_ROTA --model gem --lr 0.1 --n_memories 2048 --memory_strength 0.5\n",
        "!python main.py $MNIST_ROTA --model gem --lr 0.1 --n_memories 4096 --memory_strength 0.5\n",
        "!python main.py $MNIST_ROTA --model gem --lr 0.1 --n_memories 8192 --memory_strength 0.5\n",
        "!python main.py $MNIST_ROTA --model gem --lr 0.1 --n_memories 16384 --memory_strength 0.5"
      ],
      "execution_count": 0,
      "outputs": [
        {
          "output_type": "stream",
          "text": [
            "/content/drive/My Drive/MNIST\n",
            "results/gem_mnist_rotations.pt_2020_04_05_20_45_13_c90ade3f6139454f88da072ebf687ba4: {'model': 'gem', 'n_hiddens': 100, 'n_layers': 2, 'n_memories': 16384, 'memory_strength': 0.5, 'finetune': False, 'n_epochs': 1, 'batch_size': 10, 'lr': 0.1, 'cuda': False, 'seed': 0, 'log_every': 100, 'save_path': 'results/', 'data_path': 'data/', 'data_file': 'mnist_rotations.pt', 'samples_per_task': 1000, 'shuffle_tasks': 'no'} # 0.796 -0.067 0.691 # 1660.8125381469727\n"
          ],
          "name": "stdout"
        }
      ]
    },
    {
      "cell_type": "code",
      "metadata": {
        "colab_type": "code",
        "id": "COchuLEq0UgG",
        "outputId": "be45dae3-a04a-4b9e-87c5-3a7497d51ab1",
        "colab": {
          "base_uri": "https://localhost:8080/",
          "height": 34
        }
      },
      "source": [
        "%cd /content/drive/My Drive/MNIST/results\n",
        "m_256 = \"gem_mnist_rotations.pt_2020_04_05_19_21_28_60780a5451804fcd82e00d74c153ba8c\"\n",
        "m_512 = \"gem_mnist_rotations.pt_2020_04_05_19_25_58_e59d4433221447a7a437ef322549079a\"\n",
        "m_1024 = \"gem_mnist_rotations.pt_2020_04_05_19_31_25_bcd75879da00404cbc87ef0468a0803b\"\n",
        "m_2048 = \"gem_mnist_rotations.pt_2020_04_05_19_38_37_4634db9ce0c445379d87c9fccbcb5d8c\"\n",
        "m_4096 = \"gem_mnist_rotations.pt_2020_04_05_19_48_59_74059717ef2241a4a25a035a0fd9a4d8\"\n",
        "m_8192 = \"gem_mnist_rotations.pt_2020_04_05_20_13_37_4e3620748bab4a9db304d90bbde74108\"\n",
        "m_16384 = \"gem_mnist_rotations.pt_2020_04_05_20_45_13_c90ade3f6139454f88da072ebf687ba4\"\n",
        "rota_m = [m_256, m_512, m_1024, m_2048, m_4096, m_8192, m_16384]"
      ],
      "execution_count": 0,
      "outputs": [
        {
          "output_type": "stream",
          "text": [
            "/content/drive/My Drive/MNIST/results\n"
          ],
          "name": "stdout"
        }
      ]
    },
    {
      "cell_type": "code",
      "metadata": {
        "colab_type": "code",
        "id": "PWlocPQQ0UgL",
        "colab": {}
      },
      "source": [
        "stats = []\n",
        "for i, m in enumerate(rota_m): \n",
        "  data= torch.load(m+\".pt\")\n",
        "  stats.append(data)"
      ],
      "execution_count": 0,
      "outputs": []
    },
    {
      "cell_type": "markdown",
      "metadata": {
        "colab_type": "text",
        "id": "ux3dIrGG0UgN"
      },
      "source": [
        "### Evolution of Accuracy Across 20 Tasks\n",
        "Similar to how it was done in the paper, I am graphing the evolution of the test\n",
        "accuracy at the first task."
      ]
    },
    {
      "cell_type": "code",
      "metadata": {
        "colab_type": "code",
        "id": "GxTiL2k-0UgN",
        "colab": {}
      },
      "source": [
        "acc = []\n",
        "for i in range(len(stats)):\n",
        "  acc.append(stats[i][1][:, 0].numpy())"
      ],
      "execution_count": 0,
      "outputs": []
    },
    {
      "cell_type": "code",
      "metadata": {
        "colab_type": "code",
        "id": "C0xy92Ak0UgP",
        "colab": {}
      },
      "source": [
        "source = pd.DataFrame({\n",
        "  'task': np.linspace(0, 20, num=21), \n",
        "  '256': acc[0],\n",
        "  '512': acc[1],\n",
        "  '1024': acc[2],\n",
        "  '2048': acc[3],\n",
        "  '4096': acc[4], \n",
        "  '8192': acc[5],\n",
        "  '16384': acc[6]\n",
        "}).melt('task', var_name='memory size', value_name='accuracy')"
      ],
      "execution_count": 0,
      "outputs": []
    },
    {
      "cell_type": "code",
      "metadata": {
        "colab_type": "code",
        "outputId": "64b0fd4f-fb8f-4a28-8fc0-07643c39012e",
        "id": "nzODsV4o0UgR",
        "colab": {
          "base_uri": "https://localhost:8080/",
          "height": 368
        }
      },
      "source": [
        "alt.Chart(source).mark_line().encode(\n",
        "    x='task:O',\n",
        "    y='accuracy:Q',\n",
        "    color=alt.Color('memory size:N', sort=['256','512'])\n",
        ").properties(\n",
        "    width=600,\n",
        "    height=300\n",
        ").interactive()"
      ],
      "execution_count": 0,
      "outputs": [
        {
          "output_type": "execute_result",
          "data": {
            "text/plain": [
              "alt.Chart(...)"
            ],
            "text/html": [
              "\n",
              "<div id=\"altair-viz-524cc790dcf2420cba9ed9aa217e2e03\"></div>\n",
              "<script type=\"text/javascript\">\n",
              "  (function(spec, embedOpt){\n",
              "    const outputDiv = document.getElementById(\"altair-viz-524cc790dcf2420cba9ed9aa217e2e03\");\n",
              "    const paths = {\n",
              "      \"vega\": \"https://cdn.jsdelivr.net/npm//vega@5?noext\",\n",
              "      \"vega-lib\": \"https://cdn.jsdelivr.net/npm//vega-lib?noext\",\n",
              "      \"vega-lite\": \"https://cdn.jsdelivr.net/npm//vega-lite@4.0.2?noext\",\n",
              "      \"vega-embed\": \"https://cdn.jsdelivr.net/npm//vega-embed@6?noext\",\n",
              "    };\n",
              "\n",
              "    function loadScript(lib) {\n",
              "      return new Promise(function(resolve, reject) {\n",
              "        var s = document.createElement('script');\n",
              "        s.src = paths[lib];\n",
              "        s.async = true;\n",
              "        s.onload = () => resolve(paths[lib]);\n",
              "        s.onerror = () => reject(`Error loading script: ${paths[lib]}`);\n",
              "        document.getElementsByTagName(\"head\")[0].appendChild(s);\n",
              "      });\n",
              "    }\n",
              "\n",
              "    function showError(err) {\n",
              "      outputDiv.innerHTML = `<div class=\"error\" style=\"color:red;\">${err}</div>`;\n",
              "      throw err;\n",
              "    }\n",
              "\n",
              "    function displayChart(vegaEmbed) {\n",
              "      vegaEmbed(outputDiv, spec, embedOpt)\n",
              "        .catch(err => showError(`Javascript Error: ${err.message}<br>This usually means there's a typo in your chart specification. See the javascript console for the full traceback.`));\n",
              "    }\n",
              "\n",
              "    if(typeof define === \"function\" && define.amd) {\n",
              "      requirejs.config({paths});\n",
              "      require([\"vega-embed\"], displayChart, err => showError(`Error loading script: ${err.message}`));\n",
              "    } else if (typeof vegaEmbed === \"function\") {\n",
              "      displayChart(vegaEmbed);\n",
              "    } else {\n",
              "      loadScript(\"vega\")\n",
              "        .then(() => loadScript(\"vega-lite\"))\n",
              "        .then(() => loadScript(\"vega-embed\"))\n",
              "        .catch(showError)\n",
              "        .then(() => displayChart(vegaEmbed));\n",
              "    }\n",
              "  })({\"config\": {\"view\": {\"continuousWidth\": 400, \"continuousHeight\": 300}}, \"data\": {\"name\": \"data-fd95b18a511eb056d083af0ec3796afa\"}, \"mark\": \"line\", \"encoding\": {\"color\": {\"type\": \"nominal\", \"field\": \"memory size\", \"sort\": [\"256\", \"512\"]}, \"x\": {\"type\": \"ordinal\", \"field\": \"task\"}, \"y\": {\"type\": \"quantitative\", \"field\": \"accuracy\"}}, \"height\": 300, \"selection\": {\"selector023\": {\"type\": \"interval\", \"bind\": \"scales\", \"encodings\": [\"x\", \"y\"]}}, \"width\": 600, \"$schema\": \"https://vega.github.io/schema/vega-lite/v4.0.2.json\", \"datasets\": {\"data-fd95b18a511eb056d083af0ec3796afa\": [{\"task\": 0.0, \"memory size\": \"256\", \"accuracy\": 0.1080000028014183}, {\"task\": 1.0, \"memory size\": \"256\", \"accuracy\": 0.7050999999046326}, {\"task\": 2.0, \"memory size\": \"256\", \"accuracy\": 0.8621000051498413}, {\"task\": 3.0, \"memory size\": \"256\", \"accuracy\": 0.8585000038146973}, {\"task\": 4.0, \"memory size\": \"256\", \"accuracy\": 0.8495000004768372}, {\"task\": 5.0, \"memory size\": \"256\", \"accuracy\": 0.8065000176429749}, {\"task\": 6.0, \"memory size\": \"256\", \"accuracy\": 0.8159999847412109}, {\"task\": 7.0, \"memory size\": \"256\", \"accuracy\": 0.8119999766349792}, {\"task\": 8.0, \"memory size\": \"256\", \"accuracy\": 0.8375999927520752}, {\"task\": 9.0, \"memory size\": \"256\", \"accuracy\": 0.8116000294685364}, {\"task\": 10.0, \"memory size\": \"256\", \"accuracy\": 0.8163999915122986}, {\"task\": 11.0, \"memory size\": \"256\", \"accuracy\": 0.819100022315979}, {\"task\": 12.0, \"memory size\": \"256\", \"accuracy\": 0.805400013923645}, {\"task\": 13.0, \"memory size\": \"256\", \"accuracy\": 0.7749999761581421}, {\"task\": 14.0, \"memory size\": \"256\", \"accuracy\": 0.7939000129699707}, {\"task\": 15.0, \"memory size\": \"256\", \"accuracy\": 0.7515000104904175}, {\"task\": 16.0, \"memory size\": \"256\", \"accuracy\": 0.78329998254776}, {\"task\": 17.0, \"memory size\": \"256\", \"accuracy\": 0.7828999757766724}, {\"task\": 18.0, \"memory size\": \"256\", \"accuracy\": 0.7996000051498413}, {\"task\": 19.0, \"memory size\": \"256\", \"accuracy\": 0.7538999915122986}, {\"task\": 20.0, \"memory size\": \"256\", \"accuracy\": 0.7851999998092651}, {\"task\": 0.0, \"memory size\": \"512\", \"accuracy\": 0.1080000028014183}, {\"task\": 1.0, \"memory size\": \"512\", \"accuracy\": 0.7050999999046326}, {\"task\": 2.0, \"memory size\": \"512\", \"accuracy\": 0.8669999837875366}, {\"task\": 3.0, \"memory size\": \"512\", \"accuracy\": 0.8549000024795532}, {\"task\": 4.0, \"memory size\": \"512\", \"accuracy\": 0.8360000252723694}, {\"task\": 5.0, \"memory size\": \"512\", \"accuracy\": 0.8115000128746033}, {\"task\": 6.0, \"memory size\": \"512\", \"accuracy\": 0.8047999739646912}, {\"task\": 7.0, \"memory size\": \"512\", \"accuracy\": 0.8237000107765198}, {\"task\": 8.0, \"memory size\": \"512\", \"accuracy\": 0.8398000001907349}, {\"task\": 9.0, \"memory size\": \"512\", \"accuracy\": 0.8352000117301941}, {\"task\": 10.0, \"memory size\": \"512\", \"accuracy\": 0.864300012588501}, {\"task\": 11.0, \"memory size\": \"512\", \"accuracy\": 0.8464000225067139}, {\"task\": 12.0, \"memory size\": \"512\", \"accuracy\": 0.8432000279426575}, {\"task\": 13.0, \"memory size\": \"512\", \"accuracy\": 0.8183000087738037}, {\"task\": 14.0, \"memory size\": \"512\", \"accuracy\": 0.7890999913215637}, {\"task\": 15.0, \"memory size\": \"512\", \"accuracy\": 0.7595000267028809}, {\"task\": 16.0, \"memory size\": \"512\", \"accuracy\": 0.8245000243186951}, {\"task\": 17.0, \"memory size\": \"512\", \"accuracy\": 0.8517000079154968}, {\"task\": 18.0, \"memory size\": \"512\", \"accuracy\": 0.8510000109672546}, {\"task\": 19.0, \"memory size\": \"512\", \"accuracy\": 0.7781000137329102}, {\"task\": 20.0, \"memory size\": \"512\", \"accuracy\": 0.8270000219345093}, {\"task\": 0.0, \"memory size\": \"1024\", \"accuracy\": 0.1080000028014183}, {\"task\": 1.0, \"memory size\": \"1024\", \"accuracy\": 0.7050999999046326}, {\"task\": 2.0, \"memory size\": \"1024\", \"accuracy\": 0.8693000078201294}, {\"task\": 3.0, \"memory size\": \"1024\", \"accuracy\": 0.8605999946594238}, {\"task\": 4.0, \"memory size\": \"1024\", \"accuracy\": 0.8413000106811523}, {\"task\": 5.0, \"memory size\": \"1024\", \"accuracy\": 0.8026000261306763}, {\"task\": 6.0, \"memory size\": \"1024\", \"accuracy\": 0.8199999928474426}, {\"task\": 7.0, \"memory size\": \"1024\", \"accuracy\": 0.7976999878883362}, {\"task\": 8.0, \"memory size\": \"1024\", \"accuracy\": 0.8328999876976013}, {\"task\": 9.0, \"memory size\": \"1024\", \"accuracy\": 0.8569999933242798}, {\"task\": 10.0, \"memory size\": \"1024\", \"accuracy\": 0.8896999955177307}, {\"task\": 11.0, \"memory size\": \"1024\", \"accuracy\": 0.8557999730110168}, {\"task\": 12.0, \"memory size\": \"1024\", \"accuracy\": 0.8671000003814697}, {\"task\": 13.0, \"memory size\": \"1024\", \"accuracy\": 0.8500999808311462}, {\"task\": 14.0, \"memory size\": \"1024\", \"accuracy\": 0.785099983215332}, {\"task\": 15.0, \"memory size\": \"1024\", \"accuracy\": 0.7832000255584717}, {\"task\": 16.0, \"memory size\": \"1024\", \"accuracy\": 0.8194000124931335}, {\"task\": 17.0, \"memory size\": \"1024\", \"accuracy\": 0.8611000180244446}, {\"task\": 18.0, \"memory size\": \"1024\", \"accuracy\": 0.8733999729156494}, {\"task\": 19.0, \"memory size\": \"1024\", \"accuracy\": 0.8145999908447266}, {\"task\": 20.0, \"memory size\": \"1024\", \"accuracy\": 0.8271999955177307}, {\"task\": 0.0, \"memory size\": \"2048\", \"accuracy\": 0.1080000028014183}, {\"task\": 1.0, \"memory size\": \"2048\", \"accuracy\": 0.7050999999046326}, {\"task\": 2.0, \"memory size\": \"2048\", \"accuracy\": 0.8723000288009644}, {\"task\": 3.0, \"memory size\": \"2048\", \"accuracy\": 0.8611000180244446}, {\"task\": 4.0, \"memory size\": \"2048\", \"accuracy\": 0.8098000288009644}, {\"task\": 5.0, \"memory size\": \"2048\", \"accuracy\": 0.7542999982833862}, {\"task\": 6.0, \"memory size\": \"2048\", \"accuracy\": 0.7473999857902527}, {\"task\": 7.0, \"memory size\": \"2048\", \"accuracy\": 0.7633000016212463}, {\"task\": 8.0, \"memory size\": \"2048\", \"accuracy\": 0.7473999857902527}, {\"task\": 9.0, \"memory size\": \"2048\", \"accuracy\": 0.8303999900817871}, {\"task\": 10.0, \"memory size\": \"2048\", \"accuracy\": 0.8586999773979187}, {\"task\": 11.0, \"memory size\": \"2048\", \"accuracy\": 0.8324999809265137}, {\"task\": 12.0, \"memory size\": \"2048\", \"accuracy\": 0.8460999727249146}, {\"task\": 13.0, \"memory size\": \"2048\", \"accuracy\": 0.8343999981880188}, {\"task\": 14.0, \"memory size\": \"2048\", \"accuracy\": 0.8105999827384949}, {\"task\": 15.0, \"memory size\": \"2048\", \"accuracy\": 0.7832000255584717}, {\"task\": 16.0, \"memory size\": \"2048\", \"accuracy\": 0.7915999889373779}, {\"task\": 17.0, \"memory size\": \"2048\", \"accuracy\": 0.8267999887466431}, {\"task\": 18.0, \"memory size\": \"2048\", \"accuracy\": 0.7799000144004822}, {\"task\": 19.0, \"memory size\": \"2048\", \"accuracy\": 0.7922999858856201}, {\"task\": 20.0, \"memory size\": \"2048\", \"accuracy\": 0.8371000289916992}, {\"task\": 0.0, \"memory size\": \"4096\", \"accuracy\": 0.1080000028014183}, {\"task\": 1.0, \"memory size\": \"4096\", \"accuracy\": 0.7050999999046326}, {\"task\": 2.0, \"memory size\": \"4096\", \"accuracy\": 0.8737999796867371}, {\"task\": 3.0, \"memory size\": \"4096\", \"accuracy\": 0.8510000109672546}, {\"task\": 4.0, \"memory size\": \"4096\", \"accuracy\": 0.7971000075340271}, {\"task\": 5.0, \"memory size\": \"4096\", \"accuracy\": 0.7491000294685364}, {\"task\": 6.0, \"memory size\": \"4096\", \"accuracy\": 0.7407000064849854}, {\"task\": 7.0, \"memory size\": \"4096\", \"accuracy\": 0.7057999968528748}, {\"task\": 8.0, \"memory size\": \"4096\", \"accuracy\": 0.7361000180244446}, {\"task\": 9.0, \"memory size\": \"4096\", \"accuracy\": 0.7785999774932861}, {\"task\": 10.0, \"memory size\": \"4096\", \"accuracy\": 0.8044999837875366}, {\"task\": 11.0, \"memory size\": \"4096\", \"accuracy\": 0.7967000007629395}, {\"task\": 12.0, \"memory size\": \"4096\", \"accuracy\": 0.8040000200271606}, {\"task\": 13.0, \"memory size\": \"4096\", \"accuracy\": 0.7806000113487244}, {\"task\": 14.0, \"memory size\": \"4096\", \"accuracy\": 0.7437999844551086}, {\"task\": 15.0, \"memory size\": \"4096\", \"accuracy\": 0.7281000018119812}, {\"task\": 16.0, \"memory size\": \"4096\", \"accuracy\": 0.7225000262260437}, {\"task\": 17.0, \"memory size\": \"4096\", \"accuracy\": 0.7785000205039978}, {\"task\": 18.0, \"memory size\": \"4096\", \"accuracy\": 0.7627000212669373}, {\"task\": 19.0, \"memory size\": \"4096\", \"accuracy\": 0.763700008392334}, {\"task\": 20.0, \"memory size\": \"4096\", \"accuracy\": 0.786300003528595}, {\"task\": 0.0, \"memory size\": \"8192\", \"accuracy\": 0.1080000028014183}, {\"task\": 1.0, \"memory size\": \"8192\", \"accuracy\": 0.7050999999046326}, {\"task\": 2.0, \"memory size\": \"8192\", \"accuracy\": 0.8648999929428101}, {\"task\": 3.0, \"memory size\": \"8192\", \"accuracy\": 0.8540999889373779}, {\"task\": 4.0, \"memory size\": \"8192\", \"accuracy\": 0.7922999858856201}, {\"task\": 5.0, \"memory size\": \"8192\", \"accuracy\": 0.7085000276565552}, {\"task\": 6.0, \"memory size\": \"8192\", \"accuracy\": 0.6654999852180481}, {\"task\": 7.0, \"memory size\": \"8192\", \"accuracy\": 0.6431000232696533}, {\"task\": 8.0, \"memory size\": \"8192\", \"accuracy\": 0.629800021648407}, {\"task\": 9.0, \"memory size\": \"8192\", \"accuracy\": 0.7021999955177307}, {\"task\": 10.0, \"memory size\": \"8192\", \"accuracy\": 0.7376000285148621}, {\"task\": 11.0, \"memory size\": \"8192\", \"accuracy\": 0.7565000057220459}, {\"task\": 12.0, \"memory size\": \"8192\", \"accuracy\": 0.739799976348877}, {\"task\": 13.0, \"memory size\": \"8192\", \"accuracy\": 0.7293000221252441}, {\"task\": 14.0, \"memory size\": \"8192\", \"accuracy\": 0.7041000127792358}, {\"task\": 15.0, \"memory size\": \"8192\", \"accuracy\": 0.6998000144958496}, {\"task\": 16.0, \"memory size\": \"8192\", \"accuracy\": 0.6758999824523926}, {\"task\": 17.0, \"memory size\": \"8192\", \"accuracy\": 0.6895999908447266}, {\"task\": 18.0, \"memory size\": \"8192\", \"accuracy\": 0.6599000096321106}, {\"task\": 19.0, \"memory size\": \"8192\", \"accuracy\": 0.6499999761581421}, {\"task\": 20.0, \"memory size\": \"8192\", \"accuracy\": 0.6976000070571899}, {\"task\": 0.0, \"memory size\": \"16384\", \"accuracy\": 0.1080000028014183}, {\"task\": 1.0, \"memory size\": \"16384\", \"accuracy\": 0.7050999999046326}, {\"task\": 2.0, \"memory size\": \"16384\", \"accuracy\": 0.8607000112533569}, {\"task\": 3.0, \"memory size\": \"16384\", \"accuracy\": 0.8440999984741211}, {\"task\": 4.0, \"memory size\": \"16384\", \"accuracy\": 0.7720000147819519}, {\"task\": 5.0, \"memory size\": \"16384\", \"accuracy\": 0.6862000226974487}, {\"task\": 6.0, \"memory size\": \"16384\", \"accuracy\": 0.6539999842643738}, {\"task\": 7.0, \"memory size\": \"16384\", \"accuracy\": 0.6040999889373779}, {\"task\": 8.0, \"memory size\": \"16384\", \"accuracy\": 0.5788999795913696}, {\"task\": 9.0, \"memory size\": \"16384\", \"accuracy\": 0.6295999884605408}, {\"task\": 10.0, \"memory size\": \"16384\", \"accuracy\": 0.6463000178337097}, {\"task\": 11.0, \"memory size\": \"16384\", \"accuracy\": 0.6534000039100647}, {\"task\": 12.0, \"memory size\": \"16384\", \"accuracy\": 0.6539000272750854}, {\"task\": 13.0, \"memory size\": \"16384\", \"accuracy\": 0.6618000268936157}, {\"task\": 14.0, \"memory size\": \"16384\", \"accuracy\": 0.5982000231742859}, {\"task\": 15.0, \"memory size\": \"16384\", \"accuracy\": 0.6236000061035156}, {\"task\": 16.0, \"memory size\": \"16384\", \"accuracy\": 0.5758000016212463}, {\"task\": 17.0, \"memory size\": \"16384\", \"accuracy\": 0.588100016117096}, {\"task\": 18.0, \"memory size\": \"16384\", \"accuracy\": 0.5709999799728394}, {\"task\": 19.0, \"memory size\": \"16384\", \"accuracy\": 0.5273000001907349}, {\"task\": 20.0, \"memory size\": \"16384\", \"accuracy\": 0.595300018787384}]}}, {\"mode\": \"vega-lite\"});\n",
              "</script>"
            ]
          },
          "metadata": {
            "tags": []
          },
          "execution_count": 296
        }
      ]
    },
    {
      "cell_type": "markdown",
      "metadata": {
        "colab_type": "text",
        "id": "KM3t46Ze1mez"
      },
      "source": [
        "### Accuracy Across Memory Size"
      ]
    },
    {
      "cell_type": "code",
      "metadata": {
        "colab_type": "code",
        "id": "BpsYR9kO1me0",
        "colab": {}
      },
      "source": [
        "acc = []\n",
        "for i in range(len(stats)):\n",
        "  acc.append(stats[i][3][0].cpu().numpy())"
      ],
      "execution_count": 0,
      "outputs": []
    },
    {
      "cell_type": "code",
      "metadata": {
        "colab_type": "code",
        "id": "5iso8H4P1me2",
        "colab": {}
      },
      "source": [
        "source = pd.DataFrame({\n",
        "  '256': acc[0],\n",
        "  '512': acc[1],\n",
        "  '1024': acc[2],\n",
        "  '2048': acc[3],\n",
        "  '4096': acc[4], \n",
        "  '8192': acc[5],\n",
        "  '16384': acc[6]\n",
        "}, index=[0]).melt(var_name='memory size', value_name='accuracy')"
      ],
      "execution_count": 0,
      "outputs": []
    },
    {
      "cell_type": "code",
      "metadata": {
        "colab_type": "code",
        "outputId": "fe11d021-51bd-47fb-b04a-44ec548e3329",
        "id": "2vCICOxu1me4",
        "colab": {
          "base_uri": "https://localhost:8080/",
          "height": 385
        }
      },
      "source": [
        "alt.Chart(source).mark_bar().encode(\n",
        "    x=alt.X('memory size:N',  sort=['256','512']),\n",
        "    y='accuracy:Q',\n",
        "    color=alt.Color('memory size:N', sort=['256','512'])\n",
        ").properties(\n",
        "    width=600,\n",
        "    height=300\n",
        ").interactive()"
      ],
      "execution_count": 0,
      "outputs": [
        {
          "output_type": "execute_result",
          "data": {
            "text/plain": [
              "alt.Chart(...)"
            ],
            "text/html": [
              "\n",
              "<div id=\"altair-viz-9e38f149a14b441babd5bebd293cccf0\"></div>\n",
              "<script type=\"text/javascript\">\n",
              "  (function(spec, embedOpt){\n",
              "    const outputDiv = document.getElementById(\"altair-viz-9e38f149a14b441babd5bebd293cccf0\");\n",
              "    const paths = {\n",
              "      \"vega\": \"https://cdn.jsdelivr.net/npm//vega@5?noext\",\n",
              "      \"vega-lib\": \"https://cdn.jsdelivr.net/npm//vega-lib?noext\",\n",
              "      \"vega-lite\": \"https://cdn.jsdelivr.net/npm//vega-lite@4.0.2?noext\",\n",
              "      \"vega-embed\": \"https://cdn.jsdelivr.net/npm//vega-embed@6?noext\",\n",
              "    };\n",
              "\n",
              "    function loadScript(lib) {\n",
              "      return new Promise(function(resolve, reject) {\n",
              "        var s = document.createElement('script');\n",
              "        s.src = paths[lib];\n",
              "        s.async = true;\n",
              "        s.onload = () => resolve(paths[lib]);\n",
              "        s.onerror = () => reject(`Error loading script: ${paths[lib]}`);\n",
              "        document.getElementsByTagName(\"head\")[0].appendChild(s);\n",
              "      });\n",
              "    }\n",
              "\n",
              "    function showError(err) {\n",
              "      outputDiv.innerHTML = `<div class=\"error\" style=\"color:red;\">${err}</div>`;\n",
              "      throw err;\n",
              "    }\n",
              "\n",
              "    function displayChart(vegaEmbed) {\n",
              "      vegaEmbed(outputDiv, spec, embedOpt)\n",
              "        .catch(err => showError(`Javascript Error: ${err.message}<br>This usually means there's a typo in your chart specification. See the javascript console for the full traceback.`));\n",
              "    }\n",
              "\n",
              "    if(typeof define === \"function\" && define.amd) {\n",
              "      requirejs.config({paths});\n",
              "      require([\"vega-embed\"], displayChart, err => showError(`Error loading script: ${err.message}`));\n",
              "    } else if (typeof vegaEmbed === \"function\") {\n",
              "      displayChart(vegaEmbed);\n",
              "    } else {\n",
              "      loadScript(\"vega\")\n",
              "        .then(() => loadScript(\"vega-lite\"))\n",
              "        .then(() => loadScript(\"vega-embed\"))\n",
              "        .catch(showError)\n",
              "        .then(() => displayChart(vegaEmbed));\n",
              "    }\n",
              "  })({\"config\": {\"view\": {\"continuousWidth\": 400, \"continuousHeight\": 300}}, \"data\": {\"name\": \"data-571fd3e75a19839fda2874597ae07901\"}, \"mark\": \"bar\", \"encoding\": {\"color\": {\"type\": \"nominal\", \"field\": \"memory size\", \"sort\": [\"256\", \"512\"]}, \"x\": {\"type\": \"nominal\", \"field\": \"memory size\", \"sort\": [\"256\", \"512\"]}, \"y\": {\"type\": \"quantitative\", \"field\": \"accuracy\"}}, \"height\": 300, \"selection\": {\"selector024\": {\"type\": \"interval\", \"bind\": \"scales\", \"encodings\": [\"x\", \"y\"]}}, \"width\": 600, \"$schema\": \"https://vega.github.io/schema/vega-lite/v4.0.2.json\", \"datasets\": {\"data-571fd3e75a19839fda2874597ae07901\": [{\"memory size\": \"256\", \"accuracy\": 0.849000096321106}, {\"memory size\": \"512\", \"accuracy\": 0.8747750520706177}, {\"memory size\": \"1024\", \"accuracy\": 0.8820149302482605}, {\"memory size\": \"2048\", \"accuracy\": 0.883169949054718}, {\"memory size\": \"4096\", \"accuracy\": 0.8645699620246887}, {\"memory size\": \"8192\", \"accuracy\": 0.8384000062942505}, {\"memory size\": \"16384\", \"accuracy\": 0.7959500551223755}]}}, {\"mode\": \"vega-lite\"});\n",
              "</script>"
            ]
          },
          "metadata": {
            "tags": []
          },
          "execution_count": 299
        }
      ]
    },
    {
      "cell_type": "markdown",
      "metadata": {
        "colab_type": "text",
        "id": "4yaR7N-21me6"
      },
      "source": [
        "### Backward Transfer Across Memory Size\n"
      ]
    },
    {
      "cell_type": "code",
      "metadata": {
        "colab_type": "code",
        "id": "aCrV1An51me6",
        "colab": {}
      },
      "source": [
        "acc = []\n",
        "for i in range(len(stats)):\n",
        "  acc.append(stats[i][3][1].cpu().numpy())"
      ],
      "execution_count": 0,
      "outputs": []
    },
    {
      "cell_type": "code",
      "metadata": {
        "colab_type": "code",
        "id": "SNWdRoQl1mfA",
        "colab": {}
      },
      "source": [
        "source = pd.DataFrame({\n",
        "  '256': acc[0],\n",
        "  '512': acc[1],\n",
        "  '1024': acc[2],\n",
        "  '2048': acc[3],\n",
        "  '4096': acc[4], \n",
        "  '8192': acc[5],\n",
        "  '16384': acc[6]\n",
        "}, index=[0]).melt(var_name='memory size', value_name='backward transfer')"
      ],
      "execution_count": 0,
      "outputs": []
    },
    {
      "cell_type": "code",
      "metadata": {
        "colab_type": "code",
        "outputId": "ea9eb1e4-8926-4dc4-f704-8fe7ac376532",
        "id": "oFAAGrD11mfD",
        "colab": {
          "base_uri": "https://localhost:8080/",
          "height": 385
        }
      },
      "source": [
        "alt.Chart(source).mark_bar().encode(\n",
        "    x=alt.X('memory size:N', sort=['256','512']),\n",
        "    y='backward transfer:Q',\n",
        "    color=alt.Color('memory size:N', sort=['256','512'])\n",
        ").properties(\n",
        "    width=600,\n",
        "    height=300\n",
        ").interactive()"
      ],
      "execution_count": 0,
      "outputs": [
        {
          "output_type": "execute_result",
          "data": {
            "text/plain": [
              "alt.Chart(...)"
            ],
            "text/html": [
              "\n",
              "<div id=\"altair-viz-51c4b31ece5b4497a2d4c141ea91f4fe\"></div>\n",
              "<script type=\"text/javascript\">\n",
              "  (function(spec, embedOpt){\n",
              "    const outputDiv = document.getElementById(\"altair-viz-51c4b31ece5b4497a2d4c141ea91f4fe\");\n",
              "    const paths = {\n",
              "      \"vega\": \"https://cdn.jsdelivr.net/npm//vega@5?noext\",\n",
              "      \"vega-lib\": \"https://cdn.jsdelivr.net/npm//vega-lib?noext\",\n",
              "      \"vega-lite\": \"https://cdn.jsdelivr.net/npm//vega-lite@4.0.2?noext\",\n",
              "      \"vega-embed\": \"https://cdn.jsdelivr.net/npm//vega-embed@6?noext\",\n",
              "    };\n",
              "\n",
              "    function loadScript(lib) {\n",
              "      return new Promise(function(resolve, reject) {\n",
              "        var s = document.createElement('script');\n",
              "        s.src = paths[lib];\n",
              "        s.async = true;\n",
              "        s.onload = () => resolve(paths[lib]);\n",
              "        s.onerror = () => reject(`Error loading script: ${paths[lib]}`);\n",
              "        document.getElementsByTagName(\"head\")[0].appendChild(s);\n",
              "      });\n",
              "    }\n",
              "\n",
              "    function showError(err) {\n",
              "      outputDiv.innerHTML = `<div class=\"error\" style=\"color:red;\">${err}</div>`;\n",
              "      throw err;\n",
              "    }\n",
              "\n",
              "    function displayChart(vegaEmbed) {\n",
              "      vegaEmbed(outputDiv, spec, embedOpt)\n",
              "        .catch(err => showError(`Javascript Error: ${err.message}<br>This usually means there's a typo in your chart specification. See the javascript console for the full traceback.`));\n",
              "    }\n",
              "\n",
              "    if(typeof define === \"function\" && define.amd) {\n",
              "      requirejs.config({paths});\n",
              "      require([\"vega-embed\"], displayChart, err => showError(`Error loading script: ${err.message}`));\n",
              "    } else if (typeof vegaEmbed === \"function\") {\n",
              "      displayChart(vegaEmbed);\n",
              "    } else {\n",
              "      loadScript(\"vega\")\n",
              "        .then(() => loadScript(\"vega-lite\"))\n",
              "        .then(() => loadScript(\"vega-embed\"))\n",
              "        .catch(showError)\n",
              "        .then(() => displayChart(vegaEmbed));\n",
              "    }\n",
              "  })({\"config\": {\"view\": {\"continuousWidth\": 400, \"continuousHeight\": 300}}, \"data\": {\"name\": \"data-88bb2d2e3084e818788dab9f2bf52e50\"}, \"mark\": \"bar\", \"encoding\": {\"color\": {\"type\": \"nominal\", \"field\": \"memory size\", \"sort\": [\"256\", \"512\"]}, \"x\": {\"type\": \"nominal\", \"field\": \"memory size\", \"sort\": [\"256\", \"512\"]}, \"y\": {\"type\": \"quantitative\", \"field\": \"backward transfer\"}}, \"height\": 300, \"selection\": {\"selector025\": {\"type\": \"interval\", \"bind\": \"scales\", \"encodings\": [\"x\", \"y\"]}}, \"width\": 600, \"$schema\": \"https://vega.github.io/schema/vega-lite/v4.0.2.json\", \"datasets\": {\"data-88bb2d2e3084e818788dab9f2bf52e50\": [{\"memory size\": \"256\", \"backward transfer\": 0.849000096321106}, {\"memory size\": \"512\", \"backward transfer\": 0.8747750520706177}, {\"memory size\": \"1024\", \"backward transfer\": 0.8820149302482605}, {\"memory size\": \"2048\", \"backward transfer\": 0.883169949054718}, {\"memory size\": \"4096\", \"backward transfer\": 0.8645699620246887}, {\"memory size\": \"8192\", \"backward transfer\": 0.8384000062942505}, {\"memory size\": \"16384\", \"backward transfer\": 0.7959500551223755}]}}, {\"mode\": \"vega-lite\"});\n",
              "</script>"
            ]
          },
          "metadata": {
            "tags": []
          },
          "execution_count": 301
        }
      ]
    },
    {
      "cell_type": "markdown",
      "metadata": {
        "colab_type": "text",
        "id": "nY8RmYwf1mfG"
      },
      "source": [
        "### Forward Transfer Across Memory Size\n"
      ]
    },
    {
      "cell_type": "code",
      "metadata": {
        "colab_type": "code",
        "id": "jfW3qUMU1mfG",
        "colab": {}
      },
      "source": [
        "acc = []\n",
        "for i in range(len(stats)):\n",
        "  acc.append(stats[i][3][2].cpu().numpy())"
      ],
      "execution_count": 0,
      "outputs": []
    },
    {
      "cell_type": "code",
      "metadata": {
        "colab_type": "code",
        "id": "5NclQTVV1mfK",
        "colab": {}
      },
      "source": [
        "source = pd.DataFrame({\n",
        "  '256': acc[0],\n",
        "  '512': acc[1],\n",
        "  '1024': acc[2],\n",
        "  '2048': acc[3],\n",
        "  '4096': acc[4], \n",
        "  '8192': acc[5],\n",
        "  '16384': acc[6]\n",
        "}, index=[0]).melt(var_name='memory size', value_name='forward transfer') "
      ],
      "execution_count": 0,
      "outputs": []
    },
    {
      "cell_type": "code",
      "metadata": {
        "colab_type": "code",
        "outputId": "f7ff11db-748d-4eaa-84ef-4a1f17f945b2",
        "id": "nI6MefGG1mfL",
        "colab": {
          "base_uri": "https://localhost:8080/",
          "height": 385
        }
      },
      "source": [
        "alt.Chart(source).mark_bar().encode(\n",
        "    x=alt.X('memory size:N', sort=['256','512']),\n",
        "    y='forward transfer:Q',\n",
        "    color=alt.Color('memory size:N', sort=['256','512'])\n",
        ").properties(\n",
        "    width=600,\n",
        "    height=300\n",
        ").interactive()"
      ],
      "execution_count": 0,
      "outputs": [
        {
          "output_type": "execute_result",
          "data": {
            "text/plain": [
              "alt.Chart(...)"
            ],
            "text/html": [
              "\n",
              "<div id=\"altair-viz-8c64699aa51a434f8ab9a279330781ca\"></div>\n",
              "<script type=\"text/javascript\">\n",
              "  (function(spec, embedOpt){\n",
              "    const outputDiv = document.getElementById(\"altair-viz-8c64699aa51a434f8ab9a279330781ca\");\n",
              "    const paths = {\n",
              "      \"vega\": \"https://cdn.jsdelivr.net/npm//vega@5?noext\",\n",
              "      \"vega-lib\": \"https://cdn.jsdelivr.net/npm//vega-lib?noext\",\n",
              "      \"vega-lite\": \"https://cdn.jsdelivr.net/npm//vega-lite@4.0.2?noext\",\n",
              "      \"vega-embed\": \"https://cdn.jsdelivr.net/npm//vega-embed@6?noext\",\n",
              "    };\n",
              "\n",
              "    function loadScript(lib) {\n",
              "      return new Promise(function(resolve, reject) {\n",
              "        var s = document.createElement('script');\n",
              "        s.src = paths[lib];\n",
              "        s.async = true;\n",
              "        s.onload = () => resolve(paths[lib]);\n",
              "        s.onerror = () => reject(`Error loading script: ${paths[lib]}`);\n",
              "        document.getElementsByTagName(\"head\")[0].appendChild(s);\n",
              "      });\n",
              "    }\n",
              "\n",
              "    function showError(err) {\n",
              "      outputDiv.innerHTML = `<div class=\"error\" style=\"color:red;\">${err}</div>`;\n",
              "      throw err;\n",
              "    }\n",
              "\n",
              "    function displayChart(vegaEmbed) {\n",
              "      vegaEmbed(outputDiv, spec, embedOpt)\n",
              "        .catch(err => showError(`Javascript Error: ${err.message}<br>This usually means there's a typo in your chart specification. See the javascript console for the full traceback.`));\n",
              "    }\n",
              "\n",
              "    if(typeof define === \"function\" && define.amd) {\n",
              "      requirejs.config({paths});\n",
              "      require([\"vega-embed\"], displayChart, err => showError(`Error loading script: ${err.message}`));\n",
              "    } else if (typeof vegaEmbed === \"function\") {\n",
              "      displayChart(vegaEmbed);\n",
              "    } else {\n",
              "      loadScript(\"vega\")\n",
              "        .then(() => loadScript(\"vega-lite\"))\n",
              "        .then(() => loadScript(\"vega-embed\"))\n",
              "        .catch(showError)\n",
              "        .then(() => displayChart(vegaEmbed));\n",
              "    }\n",
              "  })({\"config\": {\"view\": {\"continuousWidth\": 400, \"continuousHeight\": 300}}, \"data\": {\"name\": \"data-367238d40d6fd706381780ff89710189\"}, \"mark\": \"bar\", \"encoding\": {\"color\": {\"type\": \"nominal\", \"field\": \"memory size\", \"sort\": [\"256\", \"512\"]}, \"x\": {\"type\": \"nominal\", \"field\": \"memory size\", \"sort\": [\"256\", \"512\"]}, \"y\": {\"type\": \"quantitative\", \"field\": \"forward transfer\"}}, \"height\": 300, \"selection\": {\"selector026\": {\"type\": \"interval\", \"bind\": \"scales\", \"encodings\": [\"x\", \"y\"]}}, \"width\": 600, \"$schema\": \"https://vega.github.io/schema/vega-lite/v4.0.2.json\", \"datasets\": {\"data-367238d40d6fd706381780ff89710189\": [{\"memory size\": \"256\", \"forward transfer\": 0.849000096321106}, {\"memory size\": \"512\", \"forward transfer\": 0.8747750520706177}, {\"memory size\": \"1024\", \"forward transfer\": 0.8820149302482605}, {\"memory size\": \"2048\", \"forward transfer\": 0.883169949054718}, {\"memory size\": \"4096\", \"forward transfer\": 0.8645699620246887}, {\"memory size\": \"8192\", \"forward transfer\": 0.8384000062942505}, {\"memory size\": \"16384\", \"forward transfer\": 0.7959500551223755}]}}, {\"mode\": \"vega-lite\"});\n",
              "</script>"
            ]
          },
          "metadata": {
            "tags": []
          },
          "execution_count": 303
        }
      ]
    },
    {
      "cell_type": "markdown",
      "metadata": {
        "colab_type": "text",
        "id": "4TtK8geEpqEp"
      },
      "source": [
        "## Testing Different Memory Size with Optimal Memory Strength\n",
        "\n",
        "Running iterations of the GEM model with n_memories = 256, 512, 1024, 2048, 4096, 8192, and 16384 with memory strength of 1. Here we found the optimal parameters to be n_memories = 512 and memory_strength = 1."
      ]
    },
    {
      "cell_type": "code",
      "metadata": {
        "colab_type": "code",
        "outputId": "db960edf-f42c-4351-96c9-12ef5d9b171a",
        "id": "x__RfZP_pqEr",
        "colab": {
          "base_uri": "https://localhost:8080/",
          "height": 190
        }
      },
      "source": [
        "%cd /content/drive/My Drive/MNIST\n",
        "MNIST_ROTA=\"--n_layers 2 --n_hiddens 100 --data_path data/ --save_path results/ --batch_size 10 --log_every 100 --samples_per_task 1000 --data_file mnist_rotations.pt    --cuda no  --seed 0\"\n",
        "!python main.py $MNIST_ROTA --model gem --lr 0.1 --n_memories 256 --memory_strength 1 #baseline\n",
        "!python main.py $MNIST_ROTA --model gem --lr 0.1 --n_memories 512 --memory_strength 1\n",
        "!python main.py $MNIST_ROTA --model gem --lr 0.1 --n_memories 1024 --memory_strength 1\n",
        "!python main.py $MNIST_ROTA --model gem --lr 0.1 --n_memories 2048 --memory_strength 1\n",
        "!python main.py $MNIST_ROTA --model gem --lr 0.1 --n_memories 4096 --memory_strength 1\n",
        "!python main.py $MNIST_ROTA --model gem --lr 0.1 --n_memories 8192 --memory_strength 1\n",
        "!python main.py $MNIST_ROTA --model gem --lr 0.1 --n_memories 16384 --memory_strength 1"
      ],
      "execution_count": 0,
      "outputs": [
        {
          "output_type": "stream",
          "text": [
            "/content/drive/My Drive/MNIST\n",
            "results/gem_mnist_rotations.pt_2020_04_05_23_26_44_63d72106ca2b48b5a1e36f0c568f4ec5: {'model': 'gem', 'n_hiddens': 100, 'n_layers': 2, 'n_memories': 256, 'memory_strength': 1.0, 'finetune': False, 'n_epochs': 1, 'batch_size': 10, 'lr': 0.1, 'cuda': False, 'seed': 0, 'log_every': 100, 'save_path': 'results/', 'data_path': 'data/', 'data_file': 'mnist_rotations.pt', 'samples_per_task': 1000, 'shuffle_tasks': 'no'} # 0.860 0.015 0.658 # 108.87254524230957\n",
            "results/gem_mnist_rotations.pt_2020_04_05_23_30_57_64f4866c57144e839113a0a44fa06e69: {'model': 'gem', 'n_hiddens': 100, 'n_layers': 2, 'n_memories': 512, 'memory_strength': 1.0, 'finetune': False, 'n_epochs': 1, 'batch_size': 10, 'lr': 0.1, 'cuda': False, 'seed': 0, 'log_every': 100, 'save_path': 'results/', 'data_path': 'data/', 'data_file': 'mnist_rotations.pt', 'samples_per_task': 1000, 'shuffle_tasks': 'no'} # 0.893 0.054 0.652 # 128.88874316215515\n",
            "results/gem_mnist_rotations.pt_2020_04_05_23_36_02_6518b2356f914887a654dd57227b616a: {'model': 'gem', 'n_hiddens': 100, 'n_layers': 2, 'n_memories': 1024, 'memory_strength': 1.0, 'finetune': False, 'n_epochs': 1, 'batch_size': 10, 'lr': 0.1, 'cuda': False, 'seed': 0, 'log_every': 100, 'save_path': 'results/', 'data_path': 'data/', 'data_file': 'mnist_rotations.pt', 'samples_per_task': 1000, 'shuffle_tasks': 'no'} # 0.836 -0.003 0.651 # 181.1442265510559\n",
            "results/gem_mnist_rotations.pt_2020_04_05_23_42_39_be51ba961cff4fb987b8edf1860dc78b: {'model': 'gem', 'n_hiddens': 100, 'n_layers': 2, 'n_memories': 2048, 'memory_strength': 1.0, 'finetune': False, 'n_epochs': 1, 'batch_size': 10, 'lr': 0.1, 'cuda': False, 'seed': 0, 'log_every': 100, 'save_path': 'results/', 'data_path': 'data/', 'data_file': 'mnist_rotations.pt', 'samples_per_task': 1000, 'shuffle_tasks': 'no'} # 0.890 0.044 0.661 # 272.69772505760193\n",
            "results/gem_mnist_rotations.pt_2020_04_05_23_51_53_17a6bea3272d40d88bb5e915c23cb31c: {'model': 'gem', 'n_hiddens': 100, 'n_layers': 2, 'n_memories': 4096, 'memory_strength': 1.0, 'finetune': False, 'n_epochs': 1, 'batch_size': 10, 'lr': 0.1, 'cuda': False, 'seed': 0, 'log_every': 100, 'save_path': 'results/', 'data_path': 'data/', 'data_file': 'mnist_rotations.pt', 'samples_per_task': 1000, 'shuffle_tasks': 'no'} # 0.886 0.034 0.669 # 430.87262439727783\n",
            "results/gem_mnist_rotations.pt_2020_04_06_00_06_28_15fa52eafd474558b78f84e265fc5033: {'model': 'gem', 'n_hiddens': 100, 'n_layers': 2, 'n_memories': 8192, 'memory_strength': 1.0, 'finetune': False, 'n_epochs': 1, 'batch_size': 10, 'lr': 0.1, 'cuda': False, 'seed': 0, 'log_every': 100, 'save_path': 'results/', 'data_path': 'data/', 'data_file': 'mnist_rotations.pt', 'samples_per_task': 1000, 'shuffle_tasks': 'no'} # 0.876 0.018 0.680 # 750.7033002376556\n"
          ],
          "name": "stdout"
        }
      ]
    },
    {
      "cell_type": "code",
      "metadata": {
        "colab_type": "code",
        "outputId": "96aefd0f-0e09-4645-bbb3-54da169336a3",
        "id": "EDzkSnaFpqE7",
        "colab": {
          "base_uri": "https://localhost:8080/",
          "height": 34
        }
      },
      "source": [
        "%cd /content/drive/My Drive/MNIST/results\n",
        "m_256 = \"gem_mnist_rotations.pt_2020_04_05_23_26_44_63d72106ca2b48b5a1e36f0c568f4ec5\"\n",
        "m_512 = \"gem_mnist_rotations.pt_2020_04_05_23_30_57_64f4866c57144e839113a0a44fa06e69\"\n",
        "m_1024 = \"gem_mnist_rotations.pt_2020_04_05_23_36_02_6518b2356f914887a654dd57227b616a\"\n",
        "m_2048 = \"gem_mnist_rotations.pt_2020_04_05_19_38_37_4634db9ce0c445379d87c9fccbcb5d8c\"\n",
        "m_4096 = \"gem_mnist_rotations.pt_2020_04_05_23_42_39_be51ba961cff4fb987b8edf1860dc78b\"\n",
        "m_8192 = \"gem_mnist_rotations.pt_2020_04_05_23_51_53_17a6bea3272d40d88bb5e915c23cb31c\"\n",
        "m_16384 = \"gem_mnist_rotations.pt_2020_04_06_00_06_28_15fa52eafd474558b78f84e265fc5033\"\n",
        "rota_m = [m_256, m_512, m_1024, m_2048, m_4096, m_8192, m_16384]"
      ],
      "execution_count": 0,
      "outputs": [
        {
          "output_type": "stream",
          "text": [
            "/content/drive/My Drive/MNIST/results\n"
          ],
          "name": "stdout"
        }
      ]
    },
    {
      "cell_type": "code",
      "metadata": {
        "colab_type": "code",
        "id": "p3Aaq5ZFpqFK",
        "colab": {}
      },
      "source": [
        "stats = []\n",
        "for i, m in enumerate(rota_m): \n",
        "  data= torch.load(m+\".pt\")\n",
        "  stats.append(data)"
      ],
      "execution_count": 0,
      "outputs": []
    },
    {
      "cell_type": "markdown",
      "metadata": {
        "colab_type": "text",
        "id": "XutfGncspqFS"
      },
      "source": [
        "### Evolution of Accuracy Across 20 Tasks\n"
      ]
    },
    {
      "cell_type": "code",
      "metadata": {
        "colab_type": "code",
        "id": "Gk1O30X0pqFT",
        "colab": {}
      },
      "source": [
        "acc = []\n",
        "for i in range(len(stats)):\n",
        "  acc.append(stats[i][1][:, 0].numpy())"
      ],
      "execution_count": 0,
      "outputs": []
    },
    {
      "cell_type": "code",
      "metadata": {
        "colab_type": "code",
        "id": "WYZucheCpqFW",
        "colab": {}
      },
      "source": [
        "source = pd.DataFrame({\n",
        "  'task': np.linspace(0, 20, num=21), \n",
        "  '256': acc[0],\n",
        "  '512': acc[1],\n",
        "  '1024': acc[2],\n",
        "  '2048': acc[3],\n",
        "  '4096': acc[4], \n",
        "  '8192': acc[5],\n",
        "  '16384': acc[6]\n",
        "}).melt('task', var_name='memory size', value_name='accuracy')"
      ],
      "execution_count": 0,
      "outputs": []
    },
    {
      "cell_type": "code",
      "metadata": {
        "colab_type": "code",
        "outputId": "8e9a2bfd-8e6a-45ca-d29f-fc3635e6a2e7",
        "id": "8QJtB2r0pqFY",
        "colab": {
          "base_uri": "https://localhost:8080/",
          "height": 368
        }
      },
      "source": [
        "alt.Chart(source).mark_line().encode(\n",
        "    x='task:O',\n",
        "    y='accuracy:Q',\n",
        "    color=alt.Color('memory size:N', sort=['256','512'])\n",
        ").properties(\n",
        "    width=600,\n",
        "    height=300\n",
        ").interactive()"
      ],
      "execution_count": 0,
      "outputs": [
        {
          "output_type": "execute_result",
          "data": {
            "text/plain": [
              "alt.Chart(...)"
            ],
            "text/html": [
              "\n",
              "<div id=\"altair-viz-d67c4e9f65664892a4ab534583866c90\"></div>\n",
              "<script type=\"text/javascript\">\n",
              "  (function(spec, embedOpt){\n",
              "    const outputDiv = document.getElementById(\"altair-viz-d67c4e9f65664892a4ab534583866c90\");\n",
              "    const paths = {\n",
              "      \"vega\": \"https://cdn.jsdelivr.net/npm//vega@5?noext\",\n",
              "      \"vega-lib\": \"https://cdn.jsdelivr.net/npm//vega-lib?noext\",\n",
              "      \"vega-lite\": \"https://cdn.jsdelivr.net/npm//vega-lite@4.0.2?noext\",\n",
              "      \"vega-embed\": \"https://cdn.jsdelivr.net/npm//vega-embed@6?noext\",\n",
              "    };\n",
              "\n",
              "    function loadScript(lib) {\n",
              "      return new Promise(function(resolve, reject) {\n",
              "        var s = document.createElement('script');\n",
              "        s.src = paths[lib];\n",
              "        s.async = true;\n",
              "        s.onload = () => resolve(paths[lib]);\n",
              "        s.onerror = () => reject(`Error loading script: ${paths[lib]}`);\n",
              "        document.getElementsByTagName(\"head\")[0].appendChild(s);\n",
              "      });\n",
              "    }\n",
              "\n",
              "    function showError(err) {\n",
              "      outputDiv.innerHTML = `<div class=\"error\" style=\"color:red;\">${err}</div>`;\n",
              "      throw err;\n",
              "    }\n",
              "\n",
              "    function displayChart(vegaEmbed) {\n",
              "      vegaEmbed(outputDiv, spec, embedOpt)\n",
              "        .catch(err => showError(`Javascript Error: ${err.message}<br>This usually means there's a typo in your chart specification. See the javascript console for the full traceback.`));\n",
              "    }\n",
              "\n",
              "    if(typeof define === \"function\" && define.amd) {\n",
              "      requirejs.config({paths});\n",
              "      require([\"vega-embed\"], displayChart, err => showError(`Error loading script: ${err.message}`));\n",
              "    } else if (typeof vegaEmbed === \"function\") {\n",
              "      displayChart(vegaEmbed);\n",
              "    } else {\n",
              "      loadScript(\"vega\")\n",
              "        .then(() => loadScript(\"vega-lite\"))\n",
              "        .then(() => loadScript(\"vega-embed\"))\n",
              "        .catch(showError)\n",
              "        .then(() => displayChart(vegaEmbed));\n",
              "    }\n",
              "  })({\"config\": {\"view\": {\"continuousWidth\": 400, \"continuousHeight\": 300}}, \"data\": {\"name\": \"data-257cfecacae5659ba73d60595192c384\"}, \"mark\": \"line\", \"encoding\": {\"color\": {\"type\": \"nominal\", \"field\": \"memory size\", \"sort\": [\"256\", \"512\"]}, \"x\": {\"type\": \"ordinal\", \"field\": \"task\"}, \"y\": {\"type\": \"quantitative\", \"field\": \"accuracy\"}}, \"height\": 300, \"selection\": {\"selector035\": {\"type\": \"interval\", \"bind\": \"scales\", \"encodings\": [\"x\", \"y\"]}}, \"width\": 600, \"$schema\": \"https://vega.github.io/schema/vega-lite/v4.0.2.json\", \"datasets\": {\"data-257cfecacae5659ba73d60595192c384\": [{\"task\": 0.0, \"memory size\": \"256\", \"accuracy\": 0.1080000028014183}, {\"task\": 1.0, \"memory size\": \"256\", \"accuracy\": 0.7050999999046326}, {\"task\": 2.0, \"memory size\": \"256\", \"accuracy\": 0.8662999868392944}, {\"task\": 3.0, \"memory size\": \"256\", \"accuracy\": 0.8586000204086304}, {\"task\": 4.0, \"memory size\": \"256\", \"accuracy\": 0.8514999747276306}, {\"task\": 5.0, \"memory size\": \"256\", \"accuracy\": 0.8086000084877014}, {\"task\": 6.0, \"memory size\": \"256\", \"accuracy\": 0.8402000069618225}, {\"task\": 7.0, \"memory size\": \"256\", \"accuracy\": 0.824999988079071}, {\"task\": 8.0, \"memory size\": \"256\", \"accuracy\": 0.849399983882904}, {\"task\": 9.0, \"memory size\": \"256\", \"accuracy\": 0.8287000060081482}, {\"task\": 10.0, \"memory size\": \"256\", \"accuracy\": 0.8256000280380249}, {\"task\": 11.0, \"memory size\": \"256\", \"accuracy\": 0.8321999907493591}, {\"task\": 12.0, \"memory size\": \"256\", \"accuracy\": 0.8313000202178955}, {\"task\": 13.0, \"memory size\": \"256\", \"accuracy\": 0.8282999992370605}, {\"task\": 14.0, \"memory size\": \"256\", \"accuracy\": 0.8112000226974487}, {\"task\": 15.0, \"memory size\": \"256\", \"accuracy\": 0.7646999955177307}, {\"task\": 16.0, \"memory size\": \"256\", \"accuracy\": 0.7864999771118164}, {\"task\": 17.0, \"memory size\": \"256\", \"accuracy\": 0.7980999946594238}, {\"task\": 18.0, \"memory size\": \"256\", \"accuracy\": 0.8227999806404114}, {\"task\": 19.0, \"memory size\": \"256\", \"accuracy\": 0.7858999967575073}, {\"task\": 20.0, \"memory size\": \"256\", \"accuracy\": 0.8105999827384949}, {\"task\": 0.0, \"memory size\": \"512\", \"accuracy\": 0.1080000028014183}, {\"task\": 1.0, \"memory size\": \"512\", \"accuracy\": 0.7050999999046326}, {\"task\": 2.0, \"memory size\": \"512\", \"accuracy\": 0.8650000095367432}, {\"task\": 3.0, \"memory size\": \"512\", \"accuracy\": 0.8730000257492065}, {\"task\": 4.0, \"memory size\": \"512\", \"accuracy\": 0.8611000180244446}, {\"task\": 5.0, \"memory size\": \"512\", \"accuracy\": 0.8199999928474426}, {\"task\": 6.0, \"memory size\": \"512\", \"accuracy\": 0.8296999931335449}, {\"task\": 7.0, \"memory size\": \"512\", \"accuracy\": 0.8587999939918518}, {\"task\": 8.0, \"memory size\": \"512\", \"accuracy\": 0.8716999888420105}, {\"task\": 9.0, \"memory size\": \"512\", \"accuracy\": 0.8592000007629395}, {\"task\": 10.0, \"memory size\": \"512\", \"accuracy\": 0.840399980545044}, {\"task\": 11.0, \"memory size\": \"512\", \"accuracy\": 0.8557999730110168}, {\"task\": 12.0, \"memory size\": \"512\", \"accuracy\": 0.8619999885559082}, {\"task\": 13.0, \"memory size\": \"512\", \"accuracy\": 0.7512999773025513}, {\"task\": 14.0, \"memory size\": \"512\", \"accuracy\": 0.8392999768257141}, {\"task\": 15.0, \"memory size\": \"512\", \"accuracy\": 0.8165000081062317}, {\"task\": 16.0, \"memory size\": \"512\", \"accuracy\": 0.8208000063896179}, {\"task\": 17.0, \"memory size\": \"512\", \"accuracy\": 0.8409000039100647}, {\"task\": 18.0, \"memory size\": \"512\", \"accuracy\": 0.85589998960495}, {\"task\": 19.0, \"memory size\": \"512\", \"accuracy\": 0.8363999724388123}, {\"task\": 20.0, \"memory size\": \"512\", \"accuracy\": 0.8546000123023987}, {\"task\": 0.0, \"memory size\": \"1024\", \"accuracy\": 0.1080000028014183}, {\"task\": 1.0, \"memory size\": \"1024\", \"accuracy\": 0.7050999999046326}, {\"task\": 2.0, \"memory size\": \"1024\", \"accuracy\": 0.8654999732971191}, {\"task\": 3.0, \"memory size\": \"1024\", \"accuracy\": 0.8632000088691711}, {\"task\": 4.0, \"memory size\": \"1024\", \"accuracy\": 0.8658000230789185}, {\"task\": 5.0, \"memory size\": \"1024\", \"accuracy\": 0.8355000019073486}, {\"task\": 6.0, \"memory size\": \"1024\", \"accuracy\": 0.8424999713897705}, {\"task\": 7.0, \"memory size\": \"1024\", \"accuracy\": 0.803600013256073}, {\"task\": 8.0, \"memory size\": \"1024\", \"accuracy\": 0.8862000107765198}, {\"task\": 9.0, \"memory size\": \"1024\", \"accuracy\": 0.8195000290870667}, {\"task\": 10.0, \"memory size\": \"1024\", \"accuracy\": 0.8962000012397766}, {\"task\": 11.0, \"memory size\": \"1024\", \"accuracy\": 0.8849999904632568}, {\"task\": 12.0, \"memory size\": \"1024\", \"accuracy\": 0.8877000212669373}, {\"task\": 13.0, \"memory size\": \"1024\", \"accuracy\": 0.8654000163078308}, {\"task\": 14.0, \"memory size\": \"1024\", \"accuracy\": 0.8658000230789185}, {\"task\": 15.0, \"memory size\": \"1024\", \"accuracy\": 0.781499981880188}, {\"task\": 16.0, \"memory size\": \"1024\", \"accuracy\": 0.8629999756813049}, {\"task\": 17.0, \"memory size\": \"1024\", \"accuracy\": 0.8805000185966492}, {\"task\": 18.0, \"memory size\": \"1024\", \"accuracy\": 0.7513999938964844}, {\"task\": 19.0, \"memory size\": \"1024\", \"accuracy\": 0.8676000237464905}, {\"task\": 20.0, \"memory size\": \"1024\", \"accuracy\": 0.8091999888420105}, {\"task\": 0.0, \"memory size\": \"2048\", \"accuracy\": 0.1080000028014183}, {\"task\": 1.0, \"memory size\": \"2048\", \"accuracy\": 0.7050999999046326}, {\"task\": 2.0, \"memory size\": \"2048\", \"accuracy\": 0.8723000288009644}, {\"task\": 3.0, \"memory size\": \"2048\", \"accuracy\": 0.8611000180244446}, {\"task\": 4.0, \"memory size\": \"2048\", \"accuracy\": 0.8098000288009644}, {\"task\": 5.0, \"memory size\": \"2048\", \"accuracy\": 0.7542999982833862}, {\"task\": 6.0, \"memory size\": \"2048\", \"accuracy\": 0.7473999857902527}, {\"task\": 7.0, \"memory size\": \"2048\", \"accuracy\": 0.7633000016212463}, {\"task\": 8.0, \"memory size\": \"2048\", \"accuracy\": 0.7473999857902527}, {\"task\": 9.0, \"memory size\": \"2048\", \"accuracy\": 0.8303999900817871}, {\"task\": 10.0, \"memory size\": \"2048\", \"accuracy\": 0.8586999773979187}, {\"task\": 11.0, \"memory size\": \"2048\", \"accuracy\": 0.8324999809265137}, {\"task\": 12.0, \"memory size\": \"2048\", \"accuracy\": 0.8460999727249146}, {\"task\": 13.0, \"memory size\": \"2048\", \"accuracy\": 0.8343999981880188}, {\"task\": 14.0, \"memory size\": \"2048\", \"accuracy\": 0.8105999827384949}, {\"task\": 15.0, \"memory size\": \"2048\", \"accuracy\": 0.7832000255584717}, {\"task\": 16.0, \"memory size\": \"2048\", \"accuracy\": 0.7915999889373779}, {\"task\": 17.0, \"memory size\": \"2048\", \"accuracy\": 0.8267999887466431}, {\"task\": 18.0, \"memory size\": \"2048\", \"accuracy\": 0.7799000144004822}, {\"task\": 19.0, \"memory size\": \"2048\", \"accuracy\": 0.7922999858856201}, {\"task\": 20.0, \"memory size\": \"2048\", \"accuracy\": 0.8371000289916992}, {\"task\": 0.0, \"memory size\": \"4096\", \"accuracy\": 0.1080000028014183}, {\"task\": 1.0, \"memory size\": \"4096\", \"accuracy\": 0.7050999999046326}, {\"task\": 2.0, \"memory size\": \"4096\", \"accuracy\": 0.8644000291824341}, {\"task\": 3.0, \"memory size\": \"4096\", \"accuracy\": 0.8536999821662903}, {\"task\": 4.0, \"memory size\": \"4096\", \"accuracy\": 0.8312000036239624}, {\"task\": 5.0, \"memory size\": \"4096\", \"accuracy\": 0.7996000051498413}, {\"task\": 6.0, \"memory size\": \"4096\", \"accuracy\": 0.7993000149726868}, {\"task\": 7.0, \"memory size\": \"4096\", \"accuracy\": 0.8209999799728394}, {\"task\": 8.0, \"memory size\": \"4096\", \"accuracy\": 0.8468999862670898}, {\"task\": 9.0, \"memory size\": \"4096\", \"accuracy\": 0.8616999983787537}, {\"task\": 10.0, \"memory size\": \"4096\", \"accuracy\": 0.8766999840736389}, {\"task\": 11.0, \"memory size\": \"4096\", \"accuracy\": 0.8702999949455261}, {\"task\": 12.0, \"memory size\": \"4096\", \"accuracy\": 0.8784999847412109}, {\"task\": 13.0, \"memory size\": \"4096\", \"accuracy\": 0.8535000085830688}, {\"task\": 14.0, \"memory size\": \"4096\", \"accuracy\": 0.8295999765396118}, {\"task\": 15.0, \"memory size\": \"4096\", \"accuracy\": 0.8148000240325928}, {\"task\": 16.0, \"memory size\": \"4096\", \"accuracy\": 0.8478000164031982}, {\"task\": 17.0, \"memory size\": \"4096\", \"accuracy\": 0.8503999710083008}, {\"task\": 18.0, \"memory size\": \"4096\", \"accuracy\": 0.8751000165939331}, {\"task\": 19.0, \"memory size\": \"4096\", \"accuracy\": 0.863099992275238}, {\"task\": 20.0, \"memory size\": \"4096\", \"accuracy\": 0.8646000027656555}, {\"task\": 0.0, \"memory size\": \"8192\", \"accuracy\": 0.1080000028014183}, {\"task\": 1.0, \"memory size\": \"8192\", \"accuracy\": 0.7050999999046326}, {\"task\": 2.0, \"memory size\": \"8192\", \"accuracy\": 0.8648999929428101}, {\"task\": 3.0, \"memory size\": \"8192\", \"accuracy\": 0.8501999974250793}, {\"task\": 4.0, \"memory size\": \"8192\", \"accuracy\": 0.805899977684021}, {\"task\": 5.0, \"memory size\": \"8192\", \"accuracy\": 0.7667999863624573}, {\"task\": 6.0, \"memory size\": \"8192\", \"accuracy\": 0.7562000155448914}, {\"task\": 7.0, \"memory size\": \"8192\", \"accuracy\": 0.7685999870300293}, {\"task\": 8.0, \"memory size\": \"8192\", \"accuracy\": 0.7774999737739563}, {\"task\": 9.0, \"memory size\": \"8192\", \"accuracy\": 0.814300000667572}, {\"task\": 10.0, \"memory size\": \"8192\", \"accuracy\": 0.8500999808311462}, {\"task\": 11.0, \"memory size\": \"8192\", \"accuracy\": 0.8460999727249146}, {\"task\": 12.0, \"memory size\": \"8192\", \"accuracy\": 0.854200005531311}, {\"task\": 13.0, \"memory size\": \"8192\", \"accuracy\": 0.8357999920845032}, {\"task\": 14.0, \"memory size\": \"8192\", \"accuracy\": 0.7774999737739563}, {\"task\": 15.0, \"memory size\": \"8192\", \"accuracy\": 0.7689999938011169}, {\"task\": 16.0, \"memory size\": \"8192\", \"accuracy\": 0.8029000163078308}, {\"task\": 17.0, \"memory size\": \"8192\", \"accuracy\": 0.8413000106811523}, {\"task\": 18.0, \"memory size\": \"8192\", \"accuracy\": 0.835099995136261}, {\"task\": 19.0, \"memory size\": \"8192\", \"accuracy\": 0.7907999753952026}, {\"task\": 20.0, \"memory size\": \"8192\", \"accuracy\": 0.8378999829292297}, {\"task\": 0.0, \"memory size\": \"16384\", \"accuracy\": 0.1080000028014183}, {\"task\": 1.0, \"memory size\": \"16384\", \"accuracy\": 0.7050999999046326}, {\"task\": 2.0, \"memory size\": \"16384\", \"accuracy\": 0.8708999752998352}, {\"task\": 3.0, \"memory size\": \"16384\", \"accuracy\": 0.8482999801635742}, {\"task\": 4.0, \"memory size\": \"16384\", \"accuracy\": 0.805400013923645}, {\"task\": 5.0, \"memory size\": \"16384\", \"accuracy\": 0.7282999753952026}, {\"task\": 6.0, \"memory size\": \"16384\", \"accuracy\": 0.7245000004768372}, {\"task\": 7.0, \"memory size\": \"16384\", \"accuracy\": 0.7260000109672546}, {\"task\": 8.0, \"memory size\": \"16384\", \"accuracy\": 0.6782000064849854}, {\"task\": 9.0, \"memory size\": \"16384\", \"accuracy\": 0.7813000082969666}, {\"task\": 10.0, \"memory size\": \"16384\", \"accuracy\": 0.8222000002861023}, {\"task\": 11.0, \"memory size\": \"16384\", \"accuracy\": 0.795799970626831}, {\"task\": 12.0, \"memory size\": \"16384\", \"accuracy\": 0.8055999875068665}, {\"task\": 13.0, \"memory size\": \"16384\", \"accuracy\": 0.7889999747276306}, {\"task\": 14.0, \"memory size\": \"16384\", \"accuracy\": 0.7616999745368958}, {\"task\": 15.0, \"memory size\": \"16384\", \"accuracy\": 0.722000002861023}, {\"task\": 16.0, \"memory size\": \"16384\", \"accuracy\": 0.742900013923645}, {\"task\": 17.0, \"memory size\": \"16384\", \"accuracy\": 0.7728999853134155}, {\"task\": 18.0, \"memory size\": \"16384\", \"accuracy\": 0.7232999801635742}, {\"task\": 19.0, \"memory size\": \"16384\", \"accuracy\": 0.7720999717712402}, {\"task\": 20.0, \"memory size\": \"16384\", \"accuracy\": 0.7960000038146973}]}}, {\"mode\": \"vega-lite\"});\n",
              "</script>"
            ]
          },
          "metadata": {
            "tags": []
          },
          "execution_count": 339
        }
      ]
    },
    {
      "cell_type": "markdown",
      "metadata": {
        "colab_type": "text",
        "id": "vkEzQVD3pqFp"
      },
      "source": [
        "### Accuracy Across Memory Size"
      ]
    },
    {
      "cell_type": "code",
      "metadata": {
        "colab_type": "code",
        "id": "Pkv8GrY6pqFq",
        "colab": {}
      },
      "source": [
        "acc = []\n",
        "for i in range(len(stats)):\n",
        "  acc.append(stats[i][3][0].cpu().numpy())"
      ],
      "execution_count": 0,
      "outputs": []
    },
    {
      "cell_type": "code",
      "metadata": {
        "colab_type": "code",
        "id": "mokv-ueHpqFu",
        "colab": {}
      },
      "source": [
        "source = pd.DataFrame({\n",
        "  '256': acc[0],\n",
        "  '512': acc[1],\n",
        "  '1024': acc[2],\n",
        "  '2048': acc[3],\n",
        "  '4096': acc[4], \n",
        "  '8192': acc[5],\n",
        "  '16384': acc[6]\n",
        "}, index=[0]).melt(var_name='memory size', value_name='accuracy')"
      ],
      "execution_count": 0,
      "outputs": []
    },
    {
      "cell_type": "code",
      "metadata": {
        "colab_type": "code",
        "outputId": "5d9528ea-9d47-4b97-d291-d9eabf0aed82",
        "id": "P0uNTBDZpqF9",
        "colab": {
          "base_uri": "https://localhost:8080/",
          "height": 385
        }
      },
      "source": [
        "alt.Chart(source).mark_bar().encode(\n",
        "    x=alt.X('memory size:N',  sort=['256','512']),\n",
        "    y='accuracy:Q',\n",
        "    color=alt.Color('memory size:N', sort=['256','512'])\n",
        ").properties(\n",
        "    width=600,\n",
        "    height=300\n",
        ").interactive()"
      ],
      "execution_count": 0,
      "outputs": [
        {
          "output_type": "execute_result",
          "data": {
            "text/plain": [
              "alt.Chart(...)"
            ],
            "text/html": [
              "\n",
              "<div id=\"altair-viz-d4be6413213d4b8a8e9df590b963a839\"></div>\n",
              "<script type=\"text/javascript\">\n",
              "  (function(spec, embedOpt){\n",
              "    const outputDiv = document.getElementById(\"altair-viz-d4be6413213d4b8a8e9df590b963a839\");\n",
              "    const paths = {\n",
              "      \"vega\": \"https://cdn.jsdelivr.net/npm//vega@5?noext\",\n",
              "      \"vega-lib\": \"https://cdn.jsdelivr.net/npm//vega-lib?noext\",\n",
              "      \"vega-lite\": \"https://cdn.jsdelivr.net/npm//vega-lite@4.0.2?noext\",\n",
              "      \"vega-embed\": \"https://cdn.jsdelivr.net/npm//vega-embed@6?noext\",\n",
              "    };\n",
              "\n",
              "    function loadScript(lib) {\n",
              "      return new Promise(function(resolve, reject) {\n",
              "        var s = document.createElement('script');\n",
              "        s.src = paths[lib];\n",
              "        s.async = true;\n",
              "        s.onload = () => resolve(paths[lib]);\n",
              "        s.onerror = () => reject(`Error loading script: ${paths[lib]}`);\n",
              "        document.getElementsByTagName(\"head\")[0].appendChild(s);\n",
              "      });\n",
              "    }\n",
              "\n",
              "    function showError(err) {\n",
              "      outputDiv.innerHTML = `<div class=\"error\" style=\"color:red;\">${err}</div>`;\n",
              "      throw err;\n",
              "    }\n",
              "\n",
              "    function displayChart(vegaEmbed) {\n",
              "      vegaEmbed(outputDiv, spec, embedOpt)\n",
              "        .catch(err => showError(`Javascript Error: ${err.message}<br>This usually means there's a typo in your chart specification. See the javascript console for the full traceback.`));\n",
              "    }\n",
              "\n",
              "    if(typeof define === \"function\" && define.amd) {\n",
              "      requirejs.config({paths});\n",
              "      require([\"vega-embed\"], displayChart, err => showError(`Error loading script: ${err.message}`));\n",
              "    } else if (typeof vegaEmbed === \"function\") {\n",
              "      displayChart(vegaEmbed);\n",
              "    } else {\n",
              "      loadScript(\"vega\")\n",
              "        .then(() => loadScript(\"vega-lite\"))\n",
              "        .then(() => loadScript(\"vega-embed\"))\n",
              "        .catch(showError)\n",
              "        .then(() => displayChart(vegaEmbed));\n",
              "    }\n",
              "  })({\"config\": {\"view\": {\"continuousWidth\": 400, \"continuousHeight\": 300}}, \"data\": {\"name\": \"data-cd2f9528a374e867c4f159a053f41a11\"}, \"mark\": \"bar\", \"encoding\": {\"color\": {\"type\": \"nominal\", \"field\": \"memory size\", \"sort\": [\"256\", \"512\"]}, \"x\": {\"type\": \"nominal\", \"field\": \"memory size\", \"sort\": [\"256\", \"512\"]}, \"y\": {\"type\": \"quantitative\", \"field\": \"accuracy\"}}, \"height\": 300, \"selection\": {\"selector036\": {\"type\": \"interval\", \"bind\": \"scales\", \"encodings\": [\"x\", \"y\"]}}, \"width\": 600, \"$schema\": \"https://vega.github.io/schema/vega-lite/v4.0.2.json\", \"datasets\": {\"data-cd2f9528a374e867c4f159a053f41a11\": [{\"memory size\": \"256\", \"accuracy\": 0.859790027141571}, {\"memory size\": \"512\", \"accuracy\": 0.8931149244308472}, {\"memory size\": \"1024\", \"accuracy\": 0.8364549875259399}, {\"memory size\": \"2048\", \"accuracy\": 0.883169949054718}, {\"memory size\": \"4096\", \"accuracy\": 0.8901599645614624}, {\"memory size\": \"8192\", \"accuracy\": 0.885794997215271}, {\"memory size\": \"16384\", \"accuracy\": 0.8759199380874634}]}}, {\"mode\": \"vega-lite\"});\n",
              "</script>"
            ]
          },
          "metadata": {
            "tags": []
          },
          "execution_count": 342
        }
      ]
    },
    {
      "cell_type": "markdown",
      "metadata": {
        "colab_type": "text",
        "id": "YHmnE68SpqGC"
      },
      "source": [
        "### Backward Transfer Across Memory Size\n"
      ]
    },
    {
      "cell_type": "code",
      "metadata": {
        "colab_type": "code",
        "id": "cNhzzY-NpqGD",
        "colab": {}
      },
      "source": [
        "acc = []\n",
        "for i in range(len(stats)):\n",
        "  acc.append(stats[i][3][1].cpu().numpy())"
      ],
      "execution_count": 0,
      "outputs": []
    },
    {
      "cell_type": "code",
      "metadata": {
        "colab_type": "code",
        "id": "e7wudPsgpqGJ",
        "colab": {}
      },
      "source": [
        "source = pd.DataFrame({\n",
        "  '256': acc[0],\n",
        "  '512': acc[1],\n",
        "  '1024': acc[2],\n",
        "  '2048': acc[3],\n",
        "  '4096': acc[4], \n",
        "  '8192': acc[5],\n",
        "  '16384': acc[6]\n",
        "}, index=[0]).melt(var_name='memory size', value_name='backward transfer')"
      ],
      "execution_count": 0,
      "outputs": []
    },
    {
      "cell_type": "code",
      "metadata": {
        "colab_type": "code",
        "outputId": "47f6dc76-a5fd-4a07-d3e7-a31b6263a2b5",
        "id": "T5aHsFTFpqGc",
        "colab": {
          "base_uri": "https://localhost:8080/",
          "height": 380
        }
      },
      "source": [
        "alt.Chart(source).mark_bar().encode(\n",
        "    x=alt.X('memory size:N', sort=['256','512']),\n",
        "    y='backward transfer:Q',\n",
        "    color=alt.Color('memory size:N', sort=['256','512'])\n",
        ").properties(\n",
        "    width=600,\n",
        "    height=300\n",
        ").interactive()"
      ],
      "execution_count": 0,
      "outputs": [
        {
          "output_type": "execute_result",
          "data": {
            "text/plain": [
              "alt.Chart(...)"
            ],
            "text/html": [
              "\n",
              "<div id=\"altair-viz-1eb5e303a0c0444696f82f7e28d379ba\"></div>\n",
              "<script type=\"text/javascript\">\n",
              "  (function(spec, embedOpt){\n",
              "    const outputDiv = document.getElementById(\"altair-viz-1eb5e303a0c0444696f82f7e28d379ba\");\n",
              "    const paths = {\n",
              "      \"vega\": \"https://cdn.jsdelivr.net/npm//vega@5?noext\",\n",
              "      \"vega-lib\": \"https://cdn.jsdelivr.net/npm//vega-lib?noext\",\n",
              "      \"vega-lite\": \"https://cdn.jsdelivr.net/npm//vega-lite@4.0.2?noext\",\n",
              "      \"vega-embed\": \"https://cdn.jsdelivr.net/npm//vega-embed@6?noext\",\n",
              "    };\n",
              "\n",
              "    function loadScript(lib) {\n",
              "      return new Promise(function(resolve, reject) {\n",
              "        var s = document.createElement('script');\n",
              "        s.src = paths[lib];\n",
              "        s.async = true;\n",
              "        s.onload = () => resolve(paths[lib]);\n",
              "        s.onerror = () => reject(`Error loading script: ${paths[lib]}`);\n",
              "        document.getElementsByTagName(\"head\")[0].appendChild(s);\n",
              "      });\n",
              "    }\n",
              "\n",
              "    function showError(err) {\n",
              "      outputDiv.innerHTML = `<div class=\"error\" style=\"color:red;\">${err}</div>`;\n",
              "      throw err;\n",
              "    }\n",
              "\n",
              "    function displayChart(vegaEmbed) {\n",
              "      vegaEmbed(outputDiv, spec, embedOpt)\n",
              "        .catch(err => showError(`Javascript Error: ${err.message}<br>This usually means there's a typo in your chart specification. See the javascript console for the full traceback.`));\n",
              "    }\n",
              "\n",
              "    if(typeof define === \"function\" && define.amd) {\n",
              "      requirejs.config({paths});\n",
              "      require([\"vega-embed\"], displayChart, err => showError(`Error loading script: ${err.message}`));\n",
              "    } else if (typeof vegaEmbed === \"function\") {\n",
              "      displayChart(vegaEmbed);\n",
              "    } else {\n",
              "      loadScript(\"vega\")\n",
              "        .then(() => loadScript(\"vega-lite\"))\n",
              "        .then(() => loadScript(\"vega-embed\"))\n",
              "        .catch(showError)\n",
              "        .then(() => displayChart(vegaEmbed));\n",
              "    }\n",
              "  })({\"config\": {\"view\": {\"continuousWidth\": 400, \"continuousHeight\": 300}}, \"data\": {\"name\": \"data-cbf0739668d478212788afc7c1309bc8\"}, \"mark\": \"bar\", \"encoding\": {\"color\": {\"type\": \"nominal\", \"field\": \"memory size\", \"sort\": [\"256\", \"512\"]}, \"x\": {\"type\": \"nominal\", \"field\": \"memory size\", \"sort\": [\"256\", \"512\"]}, \"y\": {\"type\": \"quantitative\", \"field\": \"backward transfer\"}}, \"height\": 300, \"selection\": {\"selector037\": {\"type\": \"interval\", \"bind\": \"scales\", \"encodings\": [\"x\", \"y\"]}}, \"width\": 600, \"$schema\": \"https://vega.github.io/schema/vega-lite/v4.0.2.json\", \"datasets\": {\"data-cbf0739668d478212788afc7c1309bc8\": [{\"memory size\": \"256\", \"backward transfer\": 0.014664995484054089}, {\"memory size\": \"512\", \"backward transfer\": 0.05409999564290047}, {\"memory size\": \"1024\", \"backward transfer\": -0.0025449960958212614}, {\"memory size\": \"2048\", \"backward transfer\": 0.03304000198841095}, {\"memory size\": \"4096\", \"backward transfer\": 0.04394500330090523}, {\"memory size\": \"8192\", \"backward transfer\": 0.03365500271320343}, {\"memory size\": \"16384\", \"backward transfer\": 0.01847999356687069}]}}, {\"mode\": \"vega-lite\"});\n",
              "</script>"
            ]
          },
          "metadata": {
            "tags": []
          },
          "execution_count": 345
        }
      ]
    },
    {
      "cell_type": "markdown",
      "metadata": {
        "colab_type": "text",
        "id": "GSQy3g5dpqGg"
      },
      "source": [
        "### Forward Transfer Across Memory Size\n"
      ]
    },
    {
      "cell_type": "code",
      "metadata": {
        "colab_type": "code",
        "id": "sqzkhTobpqGg",
        "colab": {}
      },
      "source": [
        "acc = []\n",
        "for i in range(len(stats)):\n",
        "  acc.append(stats[i][3][2].cpu().numpy())"
      ],
      "execution_count": 0,
      "outputs": []
    },
    {
      "cell_type": "code",
      "metadata": {
        "colab_type": "code",
        "id": "xejhT-oGpqGk",
        "colab": {}
      },
      "source": [
        "source = pd.DataFrame({\n",
        "  '256': acc[0],\n",
        "  '512': acc[1],\n",
        "  '1024': acc[2],\n",
        "  '2048': acc[3],\n",
        "  '4096': acc[4], \n",
        "  '8192': acc[5],\n",
        "  '16384': acc[6]\n",
        "}, index=[0]).melt(var_name='memory size', value_name='forward transfer') "
      ],
      "execution_count": 0,
      "outputs": []
    },
    {
      "cell_type": "code",
      "metadata": {
        "colab_type": "code",
        "outputId": "f6d337af-d69f-41b6-bba3-893873e9b454",
        "id": "iq_Kjbe4pqGr",
        "colab": {
          "base_uri": "https://localhost:8080/",
          "height": 385
        }
      },
      "source": [
        "alt.Chart(source).mark_bar().encode(\n",
        "    x=alt.X('memory size:N', sort=['256','512']),\n",
        "    y='forward transfer:Q',\n",
        "    color=alt.Color('memory size:N', sort=['256','512'])\n",
        ").properties(\n",
        "    width=600,\n",
        "    height=300\n",
        ").interactive()"
      ],
      "execution_count": 0,
      "outputs": [
        {
          "output_type": "execute_result",
          "data": {
            "text/plain": [
              "alt.Chart(...)"
            ],
            "text/html": [
              "\n",
              "<div id=\"altair-viz-9176beeb14cd40fc9fb7433d96823be8\"></div>\n",
              "<script type=\"text/javascript\">\n",
              "  (function(spec, embedOpt){\n",
              "    const outputDiv = document.getElementById(\"altair-viz-9176beeb14cd40fc9fb7433d96823be8\");\n",
              "    const paths = {\n",
              "      \"vega\": \"https://cdn.jsdelivr.net/npm//vega@5?noext\",\n",
              "      \"vega-lib\": \"https://cdn.jsdelivr.net/npm//vega-lib?noext\",\n",
              "      \"vega-lite\": \"https://cdn.jsdelivr.net/npm//vega-lite@4.0.2?noext\",\n",
              "      \"vega-embed\": \"https://cdn.jsdelivr.net/npm//vega-embed@6?noext\",\n",
              "    };\n",
              "\n",
              "    function loadScript(lib) {\n",
              "      return new Promise(function(resolve, reject) {\n",
              "        var s = document.createElement('script');\n",
              "        s.src = paths[lib];\n",
              "        s.async = true;\n",
              "        s.onload = () => resolve(paths[lib]);\n",
              "        s.onerror = () => reject(`Error loading script: ${paths[lib]}`);\n",
              "        document.getElementsByTagName(\"head\")[0].appendChild(s);\n",
              "      });\n",
              "    }\n",
              "\n",
              "    function showError(err) {\n",
              "      outputDiv.innerHTML = `<div class=\"error\" style=\"color:red;\">${err}</div>`;\n",
              "      throw err;\n",
              "    }\n",
              "\n",
              "    function displayChart(vegaEmbed) {\n",
              "      vegaEmbed(outputDiv, spec, embedOpt)\n",
              "        .catch(err => showError(`Javascript Error: ${err.message}<br>This usually means there's a typo in your chart specification. See the javascript console for the full traceback.`));\n",
              "    }\n",
              "\n",
              "    if(typeof define === \"function\" && define.amd) {\n",
              "      requirejs.config({paths});\n",
              "      require([\"vega-embed\"], displayChart, err => showError(`Error loading script: ${err.message}`));\n",
              "    } else if (typeof vegaEmbed === \"function\") {\n",
              "      displayChart(vegaEmbed);\n",
              "    } else {\n",
              "      loadScript(\"vega\")\n",
              "        .then(() => loadScript(\"vega-lite\"))\n",
              "        .then(() => loadScript(\"vega-embed\"))\n",
              "        .catch(showError)\n",
              "        .then(() => displayChart(vegaEmbed));\n",
              "    }\n",
              "  })({\"config\": {\"view\": {\"continuousWidth\": 400, \"continuousHeight\": 300}}, \"data\": {\"name\": \"data-fdc87f1f3c86e3b354d9c9458fcd5c4f\"}, \"mark\": \"bar\", \"encoding\": {\"color\": {\"type\": \"nominal\", \"field\": \"memory size\", \"sort\": [\"256\", \"512\"]}, \"x\": {\"type\": \"nominal\", \"field\": \"memory size\", \"sort\": [\"256\", \"512\"]}, \"y\": {\"type\": \"quantitative\", \"field\": \"forward transfer\"}}, \"height\": 300, \"selection\": {\"selector038\": {\"type\": \"interval\", \"bind\": \"scales\", \"encodings\": [\"x\", \"y\"]}}, \"width\": 600, \"$schema\": \"https://vega.github.io/schema/vega-lite/v4.0.2.json\", \"datasets\": {\"data-fdc87f1f3c86e3b354d9c9458fcd5c4f\": [{\"memory size\": \"256\", \"forward transfer\": 0.658394992351532}, {\"memory size\": \"512\", \"forward transfer\": 0.6522650122642517}, {\"memory size\": \"1024\", \"forward transfer\": 0.6505898833274841}, {\"memory size\": \"2048\", \"forward transfer\": 0.6697799563407898}, {\"memory size\": \"4096\", \"forward transfer\": 0.6607550382614136}, {\"memory size\": \"8192\", \"forward transfer\": 0.668969988822937}, {\"memory size\": \"16384\", \"forward transfer\": 0.679599940776825}]}}, {\"mode\": \"vega-lite\"});\n",
              "</script>"
            ]
          },
          "metadata": {
            "tags": []
          },
          "execution_count": 348
        }
      ]
    }
  ]
}